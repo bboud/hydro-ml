{
 "cells": [
  {
   "cell_type": "code",
   "execution_count": 9,
   "outputs": [],
   "source": [
    "import sys\n",
    "\n",
    "import matplotlib.pyplot as plt\n",
    "import numpy as np\n",
    "\n",
    "import os\n",
    "sys.path.insert(0, os.path.abspath(''))\n",
    "\n",
    "from hydroml.libs.model import BaryonModel\n",
    "\n",
    "from torch.utils.data import DataLoader\n",
    "\n",
    "from torch import nn\n",
    "\n",
    "import torch"
   ],
   "metadata": {
    "collapsed": false,
    "pycharm": {
     "name": "#%%\n"
    }
   }
  },
  {
   "cell_type": "code",
   "execution_count": 10,
   "outputs": [],
   "source": [
    "batch_size = 1\n",
    "ngpu = 0\n",
    "# Epochs set to '1' for testing\n",
    "epochs = 80\n",
    "learning_rate = 1e-4\n",
    "beta1 = 0.001\n",
    "n_samples = 20000"
   ],
   "metadata": {
    "collapsed": false,
    "pycharm": {
     "name": "#%%\n"
    }
   }
  },
  {
   "cell_type": "code",
   "execution_count": 11,
   "outputs": [],
   "source": [
    "# Decide which device we want to run on\n",
    "device = torch.device(\"cuda:0\" if (torch.cuda.is_available() and ngpu > 0) else \"cpu\")"
   ],
   "metadata": {
    "collapsed": false,
    "pycharm": {
     "name": "#%%\n"
    }
   }
  },
  {
   "cell_type": "code",
   "execution_count": 12,
   "outputs": [],
   "source": [
    "from hydroml.libs.dataset import Dataset\n",
    "\n",
    "net_Baryons_19 = np.fromfile('../datasets/training/NetbaryonDis_OSG3DAuAu19.6_tune18.2_wBulk_22momdeltaf_netBaryon.dat', dtype=np.float32)\n",
    "\n",
    "net_Protons_19 = np.fromfile('../datasets/training/NetbaryonDis_OSG3DAuAu19.6_tune18.2_wBulk_22momdeltaf_netProton.dat', dtype=np.float32)\n",
    "\n",
    "dataset = Dataset(net_Baryons_19, net_Protons_19, 141)\n",
    "\n",
    "data_loader = DataLoader(\n",
    "    dataset=dataset,\n",
    "    batch_size=batch_size,\n",
    "    shuffle=True,\n",
    ")"
   ],
   "metadata": {
    "collapsed": false,
    "pycharm": {
     "name": "#%%\n"
    }
   }
  },
  {
   "cell_type": "code",
   "execution_count": 13,
   "outputs": [],
   "source": [
    "model = BaryonModel()"
   ],
   "metadata": {
    "collapsed": false,
    "pycharm": {
     "name": "#%%\n"
    }
   }
  },
  {
   "cell_type": "code",
   "execution_count": 14,
   "outputs": [],
   "source": [
    "optimizer = torch.optim.SGD(model.parameters(), lr=learning_rate, momentum=0.9)"
   ],
   "metadata": {
    "collapsed": false,
    "pycharm": {
     "name": "#%%\n"
    }
   }
  },
  {
   "cell_type": "code",
   "execution_count": 15,
   "outputs": [],
   "source": [
    "loss_func = nn.MSELoss()"
   ],
   "metadata": {
    "collapsed": false,
    "pycharm": {
     "name": "#%%\n"
    }
   }
  },
  {
   "cell_type": "code",
   "execution_count": null,
   "outputs": [],
   "source": [
    "from matplotlib.animation import PillowWriter\n",
    "from hydroml.libs.plot import plot_output\n",
    "\n",
    "fig = plt.figure()\n",
    "o, = plt.plot([], [], 'k-')\n",
    "m, = plt.plot([], [], 'k-')\n",
    "\n",
    "plt.xlim(-7, 7)\n",
    "plt.ylim(-2, 25)\n",
    "\n",
    "meta = dict(title=\"Movie\", artist=\"No one\")\n",
    "writer = PillowWriter(fps=15, metadata=meta)\n",
    "\n",
    "with writer.saving(fig, \"training.gif\", 100):\n",
    "    for epoch in range(epochs):\n",
    "        for i, data in enumerate(data_loader):\n",
    "            keys = data[0]\n",
    "            values = data[1]\n",
    "\n",
    "            output = model(keys)\n",
    "\n",
    "            loss = loss_func(output, values)\n",
    "\n",
    "            optimizer.zero_grad()\n",
    "\n",
    "            loss.backward()\n",
    "            optimizer.step()\n",
    "\n",
    "            o.set_data(dataset.eta, values[0].numpy().flatten())\n",
    "            m.set_data(dataset.eta, output.detach().numpy()[0].flatten())\n",
    "\n",
    "            if epoch % 1000:\n",
    "                writer.grab_frame()\n",
    "            #\n",
    "            # if (epoch%10 == 0):\n",
    "            #     # if loss < 0.01:\n",
    "            #     #     plot_output(dataset.eta, output.detach().numpy()[0], values[0])\n",
    "            #     print(loss)\n",
    "            #     print(epoch)"
   ],
   "metadata": {
    "collapsed": false,
    "pycharm": {
     "name": "#%%\n",
     "is_executing": true
    }
   }
  },
  {
   "cell_type": "code",
   "execution_count": null,
   "outputs": [],
   "source": [
    "#torch.save(model, '../models/test_19.6_conv_32.pt')"
   ],
   "metadata": {
    "collapsed": false,
    "pycharm": {
     "name": "#%%\n",
     "is_executing": true
    }
   }
  },
  {
   "cell_type": "code",
   "execution_count": null,
   "outputs": [],
   "source": [],
   "metadata": {
    "collapsed": false,
    "pycharm": {
     "name": "#%%\n",
     "is_executing": true
    }
   }
  }
 ],
 "metadata": {
  "kernelspec": {
   "display_name": "Python 3 (ipykernel)",
   "language": "python",
   "name": "python3"
  },
  "language_info": {
   "codemirror_mode": {
    "name": "ipython",
    "version": 3
   },
   "file_extension": ".py",
   "mimetype": "text/x-python",
   "name": "python",
   "nbconvert_exporter": "python",
   "pygments_lexer": "ipython3",
   "version": "3.10.4"
  }
 },
 "nbformat": 4,
 "nbformat_minor": 5
}