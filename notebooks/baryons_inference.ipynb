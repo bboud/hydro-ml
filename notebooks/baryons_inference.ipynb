{
 "cells": [
  {
   "cell_type": "code",
   "execution_count": 1,
   "metadata": {
    "collapsed": false,
    "jupyter": {
     "outputs_hidden": false
    },
    "pycharm": {
     "name": "#%%\n"
    }
   },
   "outputs": [],
   "source": [
    "from torch import load\n",
    "import numpy as np"
   ]
  },
  {
   "cell_type": "code",
   "execution_count": 2,
   "metadata": {
    "collapsed": false,
    "jupyter": {
     "outputs_hidden": false
    },
    "pycharm": {
     "name": "#%%\n"
    }
   },
   "outputs": [
    {
     "data": {
      "text/plain": "BaryonModel(\n  (linear_in): Linear(in_features=141, out_features=141, bias=True)\n  (linear_1): Linear(in_features=141, out_features=32, bias=True)\n  (linear_3): Linear(in_features=32, out_features=141, bias=True)\n  (leaky): LeakyReLU(negative_slope=0.01)\n  (sigmoid): Sigmoid()\n)"
     },
     "execution_count": 2,
     "metadata": {},
     "output_type": "execute_result"
    }
   ],
   "source": [
    "# If you haven't trained a model yet, please go to the file 'baryons_train.ipynb' first!\n",
    "model = load('../models/test_200.pt')\n",
    "model.eval()"
   ]
  },
  {
   "cell_type": "code",
   "execution_count": 3,
   "metadata": {
    "collapsed": false,
    "jupyter": {
     "outputs_hidden": false
    },
    "pycharm": {
     "name": "#%%\n"
    }
   },
   "outputs": [],
   "source": [
    "from hydroml.libs.dataset import Dataset\n",
    "from torch.utils.data import DataLoader\n",
    "\n",
    "net_Baryons = Dataset(np.fromfile('../datasets/training/3DAuAu200_minimumbias_BG16_tune17_netBaryon.dat', dtype=np.float32), 141)\n",
    "\n",
    "data_loader = DataLoader(\n",
    "    dataset=net_Baryons,\n",
    "    shuffle=True,\n",
    ")"
   ]
  },
  {
   "cell_type": "code",
   "execution_count": 4,
   "metadata": {
    "collapsed": false,
    "jupyter": {
     "outputs_hidden": false
    },
    "pycharm": {
     "name": "#%%\n"
    }
   },
   "outputs": [
    {
     "ename": "AttributeError",
     "evalue": "'BaryonModel' object has no attribute 'linear_2'",
     "output_type": "error",
     "traceback": [
      "\u001B[0;31m---------------------------------------------------------------------------\u001B[0m",
      "\u001B[0;31mAttributeError\u001B[0m                            Traceback (most recent call last)",
      "Cell \u001B[0;32mIn[4], line 14\u001B[0m\n\u001B[1;32m     10\u001B[0m \u001B[38;5;28;01mimport\u001B[39;00m \u001B[38;5;21;01mnumpy\u001B[39;00m \u001B[38;5;28;01mas\u001B[39;00m \u001B[38;5;21;01mnp\u001B[39;00m\n\u001B[1;32m     12\u001B[0m \u001B[38;5;28;01mfor\u001B[39;00m i, data \u001B[38;5;129;01min\u001B[39;00m \u001B[38;5;28menumerate\u001B[39m(data_loader):\n\u001B[0;32m---> 14\u001B[0m     protons \u001B[38;5;241m=\u001B[39m \u001B[43mmodel\u001B[49m\u001B[43m(\u001B[49m\u001B[43mdata\u001B[49m\u001B[38;5;241;43m.\u001B[39;49m\u001B[43mflatten\u001B[49m\u001B[43m(\u001B[49m\u001B[43m)\u001B[49m\u001B[43m)\u001B[49m\n\u001B[1;32m     16\u001B[0m     protons \u001B[38;5;241m=\u001B[39m protons\u001B[38;5;241m.\u001B[39mdetach()\u001B[38;5;241m.\u001B[39mnumpy()\n\u001B[1;32m     18\u001B[0m     baryon_eta_trim, baryon_trim \u001B[38;5;241m=\u001B[39m trim( net_Baryons\u001B[38;5;241m.\u001B[39meta, data\u001B[38;5;241m.\u001B[39mflatten(), bound_1, bound_2  )\n",
      "File \u001B[0;32m/opt/homebrew/Caskroom/miniconda/base/envs/hydroml/lib/python3.10/site-packages/torch/nn/modules/module.py:1130\u001B[0m, in \u001B[0;36mModule._call_impl\u001B[0;34m(self, *input, **kwargs)\u001B[0m\n\u001B[1;32m   1126\u001B[0m \u001B[38;5;66;03m# If we don't have any hooks, we want to skip the rest of the logic in\u001B[39;00m\n\u001B[1;32m   1127\u001B[0m \u001B[38;5;66;03m# this function, and just call forward.\u001B[39;00m\n\u001B[1;32m   1128\u001B[0m \u001B[38;5;28;01mif\u001B[39;00m \u001B[38;5;129;01mnot\u001B[39;00m (\u001B[38;5;28mself\u001B[39m\u001B[38;5;241m.\u001B[39m_backward_hooks \u001B[38;5;129;01mor\u001B[39;00m \u001B[38;5;28mself\u001B[39m\u001B[38;5;241m.\u001B[39m_forward_hooks \u001B[38;5;129;01mor\u001B[39;00m \u001B[38;5;28mself\u001B[39m\u001B[38;5;241m.\u001B[39m_forward_pre_hooks \u001B[38;5;129;01mor\u001B[39;00m _global_backward_hooks\n\u001B[1;32m   1129\u001B[0m         \u001B[38;5;129;01mor\u001B[39;00m _global_forward_hooks \u001B[38;5;129;01mor\u001B[39;00m _global_forward_pre_hooks):\n\u001B[0;32m-> 1130\u001B[0m     \u001B[38;5;28;01mreturn\u001B[39;00m \u001B[43mforward_call\u001B[49m\u001B[43m(\u001B[49m\u001B[38;5;241;43m*\u001B[39;49m\u001B[38;5;28;43minput\u001B[39;49m\u001B[43m,\u001B[49m\u001B[43m \u001B[49m\u001B[38;5;241;43m*\u001B[39;49m\u001B[38;5;241;43m*\u001B[39;49m\u001B[43mkwargs\u001B[49m\u001B[43m)\u001B[49m\n\u001B[1;32m   1131\u001B[0m \u001B[38;5;66;03m# Do not call functions when jit is used\u001B[39;00m\n\u001B[1;32m   1132\u001B[0m full_backward_hooks, non_full_backward_hooks \u001B[38;5;241m=\u001B[39m [], []\n",
      "File \u001B[0;32m~/Documents/Research/hydro-ml/hydroml/libs/model.py:21\u001B[0m, in \u001B[0;36mBaryonModel.forward\u001B[0;34m(self, t)\u001B[0m\n\u001B[1;32m     17\u001B[0m t \u001B[38;5;241m=\u001B[39m \u001B[38;5;28mself\u001B[39m\u001B[38;5;241m.\u001B[39mleaky(\u001B[38;5;28mself\u001B[39m\u001B[38;5;241m.\u001B[39mlinear_in(t))\n\u001B[1;32m     19\u001B[0m t \u001B[38;5;241m=\u001B[39m \u001B[38;5;28mself\u001B[39m\u001B[38;5;241m.\u001B[39mleaky(\u001B[38;5;28mself\u001B[39m\u001B[38;5;241m.\u001B[39mlinear_1(t))\n\u001B[0;32m---> 21\u001B[0m t \u001B[38;5;241m=\u001B[39m \u001B[38;5;28mself\u001B[39m\u001B[38;5;241m.\u001B[39mleaky(\u001B[38;5;28;43mself\u001B[39;49m\u001B[38;5;241;43m.\u001B[39;49m\u001B[43mlinear_2\u001B[49m(t))\n\u001B[1;32m     23\u001B[0m \u001B[38;5;28;01mreturn\u001B[39;00m t\n",
      "File \u001B[0;32m/opt/homebrew/Caskroom/miniconda/base/envs/hydroml/lib/python3.10/site-packages/torch/nn/modules/module.py:1207\u001B[0m, in \u001B[0;36mModule.__getattr__\u001B[0;34m(self, name)\u001B[0m\n\u001B[1;32m   1205\u001B[0m     \u001B[38;5;28;01mif\u001B[39;00m name \u001B[38;5;129;01min\u001B[39;00m modules:\n\u001B[1;32m   1206\u001B[0m         \u001B[38;5;28;01mreturn\u001B[39;00m modules[name]\n\u001B[0;32m-> 1207\u001B[0m \u001B[38;5;28;01mraise\u001B[39;00m \u001B[38;5;167;01mAttributeError\u001B[39;00m(\u001B[38;5;124m\"\u001B[39m\u001B[38;5;124m'\u001B[39m\u001B[38;5;132;01m{}\u001B[39;00m\u001B[38;5;124m'\u001B[39m\u001B[38;5;124m object has no attribute \u001B[39m\u001B[38;5;124m'\u001B[39m\u001B[38;5;132;01m{}\u001B[39;00m\u001B[38;5;124m'\u001B[39m\u001B[38;5;124m\"\u001B[39m\u001B[38;5;241m.\u001B[39mformat(\n\u001B[1;32m   1208\u001B[0m     \u001B[38;5;28mtype\u001B[39m(\u001B[38;5;28mself\u001B[39m)\u001B[38;5;241m.\u001B[39m\u001B[38;5;18m__name__\u001B[39m, name))\n",
      "\u001B[0;31mAttributeError\u001B[0m: 'BaryonModel' object has no attribute 'linear_2'"
     ]
    }
   ],
   "source": [
    "from hydroml.utils.plot import plot_cc_graph\n",
    "from hydroml.utils.moments import Moments\n",
    "from hydroml.utils.trim import trim\n",
    "\n",
    "finals = []\n",
    "models = []\n",
    "bound_1 = -1\n",
    "bound_2 = 1\n",
    "\n",
    "import numpy as np\n",
    "\n",
    "for i, data in enumerate(data_loader):\n",
    "\n",
    "    protons = model(data.flatten())\n",
    "\n",
    "    protons = protons.detach().numpy()\n",
    "\n",
    "    baryon_eta_trim, baryon_trim = trim( net_Baryons.eta, data.flatten(), bound_1, bound_2  )\n",
    "    _, output_trim = trim( net_Baryons.eta, protons, bound_1, bound_2  )\n",
    "\n",
    "    finals.append( np.trapz( baryon_trim, x=baryon_eta_trim ) )\n",
    "    models.append( np.trapz( output_trim, x=baryon_eta_trim ) )\n",
    "\n",
    "finals_moments = Moments(finals)\n",
    "models_moments = Moments(models)\n",
    "\n",
    "print(\"Values for actual final state\")\n",
    "print(finals_moments)\n",
    "\n",
    "print()\n",
    "\n",
    "print(\"Values for model output final state\")\n",
    "print(models_moments)\n",
    "\n",
    "plot_cc_graph(np.array(finals), np.array(models), \"Net Protons\")"
   ]
  },
  {
   "cell_type": "code",
   "execution_count": null,
   "metadata": {
    "collapsed": false,
    "jupyter": {
     "outputs_hidden": false
    },
    "pycharm": {
     "name": "#%%\n"
    }
   },
   "outputs": [],
   "source": []
  }
 ],
 "metadata": {
  "kernelspec": {
   "display_name": "Python 3 (ipykernel)",
   "language": "python",
   "name": "python3"
  },
  "language_info": {
   "codemirror_mode": {
    "name": "ipython",
    "version": 3
   },
   "file_extension": ".py",
   "mimetype": "text/x-python",
   "name": "python",
   "nbconvert_exporter": "python",
   "pygments_lexer": "ipython3",
   "version": "3.10.6"
  }
 },
 "nbformat": 4,
 "nbformat_minor": 4
}