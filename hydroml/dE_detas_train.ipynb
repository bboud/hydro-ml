{
 "cells": [
  {
   "cell_type": "code",
   "execution_count": null,
   "outputs": [],
   "source": [
    "from model import DEModel\n",
    "from data import DEData\n",
    "from torch import nn\n",
    "from IPython import display\n",
    "\n",
    "import torch\n",
    "import plot"
   ],
   "metadata": {
    "collapsed": false,
    "pycharm": {
     "name": "#%%\n"
    }
   }
  },
  {
   "cell_type": "code",
   "execution_count": null,
   "outputs": [],
   "source": [
    "batch_size = 64\n",
    "ngpu = 0\n",
    "# Epochs set to '1' for testing\n",
    "epochs = 1000\n",
    "learning_rate = 1e-4\n",
    "beta1 = 0.9"
   ],
   "metadata": {
    "collapsed": false,
    "pycharm": {
     "name": "#%%\n"
    }
   }
  },
  {
   "cell_type": "code",
   "execution_count": null,
   "outputs": [],
   "source": [
    "dataset = DEData('dE_data').trim(-4.9, -4.) + DEData('dE_data_2').trim(-4.9, -4.)\n",
    "\n",
    "data_loader = torch.utils.data.DataLoader(\n",
    "    dataset=dataset,\n",
    "    batch_size=batch_size,\n",
    "    shuffle=True,\n",
    ")"
   ],
   "metadata": {
    "collapsed": false,
    "pycharm": {
     "name": "#%%\n"
    }
   }
  },
  {
   "cell_type": "code",
   "execution_count": null,
   "outputs": [],
   "source": [
    "dE_model = DEModel(len(dataset.start_eta), len(dataset.final_eta))"
   ],
   "metadata": {
    "collapsed": false,
    "pycharm": {
     "name": "#%%\n"
    }
   }
  },
  {
   "cell_type": "code",
   "execution_count": null,
   "outputs": [],
   "source": [
    "optimizer = torch.optim.Adam(dE_model.parameters(), lr=learning_rate, betas=(beta1, 0.999))"
   ],
   "metadata": {
    "collapsed": false,
    "pycharm": {
     "name": "#%%\n"
    }
   }
  },
  {
   "cell_type": "code",
   "execution_count": null,
   "outputs": [],
   "source": [
    "loss_func = nn.MSELoss()"
   ],
   "metadata": {
    "collapsed": false,
    "pycharm": {
     "name": "#%%\n"
    }
   }
  },
  {
   "cell_type": "code",
   "execution_count": null,
   "outputs": [],
   "source": [
    "loss_total = []\n",
    "\n",
    "for epoch in range(epochs):\n",
    "    for i, data in enumerate(data_loader):\n",
    "        actual_batch_size = data[1].shape[0]\n",
    "        etas = dataset.final_eta\n",
    "        dE_deta_initial = data[0].reshape(actual_batch_size,1, len(dataset.start_eta))\n",
    "        dNch_deta_final = data[1].reshape(actual_batch_size, 1, len(dataset.final_eta))\n",
    "\n",
    "        optimizer.zero_grad()\n",
    "\n",
    "        output = dE_model(dE_deta_initial.float())\n",
    "\n",
    "        loss = loss_func(output, dNch_deta_final.float())\n",
    "\n",
    "        loss.backward()\n",
    "        optimizer.step()\n",
    "\n",
    "        #loss_total.append(loss.detach().numpy())\n",
    "\n",
    "        if i % 128 == 0:\n",
    "            display.clear_output(wait=True)\n",
    "            #plot.plot_telemetry( loss_total, output.detach().numpy(), dNch_deta_final, etas)\n",
    "\n",
    "            print(f\"Epoch [{epoch+1}/{epochs}], Batch [{i+1}/{len(dataset) // batch_size}], loss: {loss:.4f}\")"
   ],
   "metadata": {
    "collapsed": false,
    "pycharm": {
     "name": "#%%\n"
    }
   }
  },
  {
   "cell_type": "code",
   "execution_count": null,
   "outputs": [],
   "source": [
    "torch.save(dE_model, './dE_model_trim.pt')"
   ],
   "metadata": {
    "collapsed": false,
    "pycharm": {
     "name": "#%%\n"
    }
   }
  }
 ],
 "metadata": {
  "kernelspec": {
   "display_name": "Python 3 (ipykernel)",
   "language": "python",
   "name": "python3"
  },
  "language_info": {
   "codemirror_mode": {
    "name": "ipython",
    "version": 3
   },
   "file_extension": ".py",
   "mimetype": "text/x-python",
   "name": "python",
   "nbconvert_exporter": "python",
   "pygments_lexer": "ipython3",
   "version": "3.10.5"
  }
 },
 "nbformat": 4,
 "nbformat_minor": 5
}