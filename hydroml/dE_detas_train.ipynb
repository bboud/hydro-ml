{
 "cells": [
  {
   "cell_type": "code",
   "execution_count": null,
   "outputs": [],
   "source": [
    "from model import DEModel\n",
    "from data import DEData\n",
    "from torch import nn\n",
    "from IPython import display\n",
    "from scipy import stats\n",
    "\n",
    "import numpy as np\n",
    "\n",
    "import torch\n",
    "import plot"
   ],
   "metadata": {
    "collapsed": false,
    "pycharm": {
     "name": "#%%\n"
    }
   }
  },
  {
   "cell_type": "code",
   "execution_count": null,
   "outputs": [],
   "source": [
    "batch_size = 64\n",
    "ngpu = 0\n",
    "# Epochs set to '1' for testing\n",
    "epochs = 1000\n",
    "learning_rate = 1e-4\n",
    "beta1 = 0.9"
   ],
   "metadata": {
    "collapsed": false,
    "pycharm": {
     "name": "#%%\n"
    }
   }
  },
  {
   "cell_type": "code",
   "execution_count": null,
   "outputs": [],
   "source": [
    "dataset = DEData('dE_data', standardize=True)"
   ],
   "metadata": {
    "collapsed": false,
    "pycharm": {
     "name": "#%%\n"
    }
   }
  },
  {
   "cell_type": "code",
   "execution_count": null,
   "outputs": [],
   "source": [
    "# Take out the outliers for both initial energy distro and final state\n",
    "\n",
    "import utils\n",
    "import matplotlib.pyplot as plt\n",
    "\n",
    "bound_1 = -4.9\n",
    "bound_2 = -4.\n",
    "\n",
    "initial_zscore_threshold = 2.25\n",
    "final_zscore_threshold = 2.25\n",
    "\n",
    "initial_int = []\n",
    "final_int = []\n",
    "\n",
    "for i, data in enumerate(dataset):\n",
    "    initial = data[0]\n",
    "    final = data[1]\n",
    "\n",
    "    initial_eta_trim, initial_trim = utils.trim( dataset.start_eta, initial, bound_1, bound_2 )\n",
    "    final_eta_trim, final_trim = utils.trim( dataset.final_eta, final, bound_1, bound_2 )\n",
    "\n",
    "    initial_int.append( np.trapz( initial_trim, initial_eta_trim ) )\n",
    "    final_int.append( np.trapz( final_trim, final_eta_trim ) )\n",
    "\n",
    "initial_int = np.array(initial_int)\n",
    "final_int = np.array(final_int)\n",
    "\n",
    "initial_zscore = np.abs( stats.zscore( initial_int ) )\n",
    "final_zscore = np.abs( stats.zscore( final_int ) )\n",
    "\n",
    "to_remove = []\n",
    "\n",
    "for i, _ in enumerate(initial_int):\n",
    "    if initial_zscore[i] > initial_zscore_threshold or final_zscore[i] > final_zscore_threshold:\n",
    "        to_remove.append(i)\n",
    "\n",
    "dataset = dataset.delete_elements(to_remove)\n",
    "\n",
    "print(len(dataset))\n",
    "\n",
    "# plt.scatter( np.linspace( 0, 1, len(initial_zscore) ), initial_zscore )\n",
    "# plt.scatter( np.linspace( 0, 1, len(final_zscore) ), final_zscore )\n",
    "# plt.show()"
   ],
   "metadata": {
    "collapsed": false,
    "pycharm": {
     "name": "#%%\n"
    }
   }
  },
  {
   "cell_type": "code",
   "execution_count": null,
   "outputs": [],
   "source": [
    "data_loader = torch.utils.data.DataLoader(\n",
    "    dataset=dataset,\n",
    "    batch_size=batch_size,\n",
    "    shuffle=True,\n",
    ")"
   ],
   "metadata": {
    "collapsed": false,
    "pycharm": {
     "name": "#%%\n"
    }
   }
  },
  {
   "cell_type": "code",
   "execution_count": null,
   "outputs": [],
   "source": [
    "dE_model = DEModel(len(dataset.start_eta), len(dataset.final_eta))"
   ],
   "metadata": {
    "collapsed": false,
    "pycharm": {
     "name": "#%%\n"
    }
   }
  },
  {
   "cell_type": "code",
   "execution_count": null,
   "outputs": [],
   "source": [
    "optimizer = torch.optim.Adamax(dE_model.parameters(), lr=learning_rate)"
   ],
   "metadata": {
    "collapsed": false,
    "pycharm": {
     "name": "#%%\n"
    }
   }
  },
  {
   "cell_type": "code",
   "execution_count": null,
   "outputs": [],
   "source": [
    "loss_func = nn.MSELoss()"
   ],
   "metadata": {
    "collapsed": false,
    "pycharm": {
     "name": "#%%\n"
    }
   }
  },
  {
   "cell_type": "code",
   "execution_count": null,
   "outputs": [],
   "source": [
    "loss_total = []\n",
    "\n",
    "for epoch in range(epochs):\n",
    "    for i, data in enumerate(data_loader):\n",
    "        actual_batch_size = data[1].shape[0]\n",
    "        etas = dataset.final_eta\n",
    "        dE_deta_initial = data[0].reshape(actual_batch_size,1, len(dataset.start_eta))\n",
    "        dNch_deta_final = data[1].reshape(actual_batch_size, 1, len(dataset.final_eta))\n",
    "\n",
    "        optimizer.zero_grad()\n",
    "\n",
    "        output = dE_model(dE_deta_initial.float())\n",
    "\n",
    "        loss = loss_func(output, dNch_deta_final.float())\n",
    "\n",
    "        loss.backward()\n",
    "        optimizer.step()\n",
    "\n",
    "        #loss_total.append(loss.detach().numpy())\n",
    "\n",
    "        if i % 128 == 0:\n",
    "            display.clear_output(wait=True)\n",
    "            #plot.plot_telemetry( loss_total, output.detach().numpy(), dNch_deta_final, etas)\n",
    "\n",
    "            print(f\"Epoch [{epoch+1}/{epochs}], Batch [{i+1}/{len(dataset) // batch_size}], loss: {loss:.4f}\")"
   ],
   "metadata": {
    "collapsed": false,
    "pycharm": {
     "name": "#%%\n"
    }
   }
  },
  {
   "cell_type": "code",
   "execution_count": null,
   "outputs": [],
   "source": [
    "torch.save(dE_model, './dE_model_ztest.pt')"
   ],
   "metadata": {
    "collapsed": false,
    "pycharm": {
     "name": "#%%\n"
    }
   }
  },
  {
   "cell_type": "code",
   "execution_count": null,
   "outputs": [],
   "source": [],
   "metadata": {
    "collapsed": false,
    "pycharm": {
     "name": "#%%\n"
    }
   }
  }
 ],
 "metadata": {
  "kernelspec": {
   "display_name": "Python 3 (ipykernel)",
   "language": "python",
   "name": "python3"
  },
  "language_info": {
   "codemirror_mode": {
    "name": "ipython",
    "version": 3
   },
   "file_extension": ".py",
   "mimetype": "text/x-python",
   "name": "python",
   "nbconvert_exporter": "python",
   "pygments_lexer": "ipython3",
   "version": "3.10.5"
  }
 },
 "nbformat": 4,
 "nbformat_minor": 5
}