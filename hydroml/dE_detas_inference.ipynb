{
 "cells": [
  {
   "cell_type": "code",
   "execution_count": null,
   "outputs": [],
   "source": [
    "import torch\n",
    "from data import DEData\n",
    "from torch.utils.data import DataLoader"
   ],
   "metadata": {
    "collapsed": false,
    "pycharm": {
     "name": "#%%\n"
    }
   }
  },
  {
   "cell_type": "code",
   "execution_count": null,
   "outputs": [],
   "source": [
    "# If you haven't trained a model yet, please go to the file 'train_model.ipynb' first!\n",
    "dE_detas_model = torch.load('./dE_model.pt')\n",
    "dE_detas_model.eval()"
   ],
   "metadata": {
    "collapsed": false,
    "pycharm": {
     "name": "#%%\n"
    }
   }
  },
  {
   "cell_type": "code",
   "execution_count": null,
   "outputs": [],
   "source": [
    "dataset = DEData('dE_data') + DEData('dE_data_2')\n",
    "\n",
    "data_loader = DataLoader(\n",
    "    dataset=dataset,\n",
    "    shuffle=True\n",
    ")"
   ],
   "metadata": {
    "collapsed": false,
    "pycharm": {
     "name": "#%%\n"
    }
   }
  },
  {
   "cell_type": "code",
   "execution_count": null,
   "outputs": [],
   "source": [
    "# How many you want to see\n",
    "limit = 5\n",
    "bound_1 = -4.9\n",
    "bound_2 = -4.\n",
    "finals = []\n",
    "models = []\n",
    "\n",
    "import utils\n",
    "import plot\n",
    "import numpy as np\n",
    "\n",
    "# for i, data in enumerate(data_loader):\n",
    "#     if i >= limit:\n",
    "#         break\n",
    "#     dE_detas_initial = data[0].flatten()\n",
    "#     dNch_detas_final = data[1].flatten()\n",
    "#     output = dE_detas_model(dE_detas_initial.float())\n",
    "#\n",
    "#     _, dNch_detas_final_trim = utils.trim(dataset.final_eta, dNch_detas_final.numpy(), bound_1, bound_2)\n",
    "#     x_axis, output_trim = utils.trim(dataset.final_eta, output.detach().numpy(), bound_1, bound_2)\n",
    "#\n",
    "#     plot.plot_output(output_trim, dNch_detas_final_trim, x_axis)\n",
    "\n",
    "for i, data in enumerate(data_loader):\n",
    "    dE_detas_initial = data[0].flatten()\n",
    "    dNch_detas_final = data[1].flatten()\n",
    "    output = dE_detas_model(dE_detas_initial.float())\n",
    "\n",
    "    _, dNch_detas_final_trim = utils.trim(dataset.final_eta, dNch_detas_final.numpy(), bound_1, bound_2)\n",
    "    x_axis, output_trim = utils.trim(dataset.final_eta, output.detach().numpy(), bound_1, bound_2)\n",
    "\n",
    "    finals.append( np.trapz(dNch_detas_final_trim, x_axis) )\n",
    "    models.append( np.trapz(output_trim, x_axis) )\n",
    "\n",
    "plot.plot_cc_graph(finals, models)"
   ],
   "metadata": {
    "collapsed": false,
    "pycharm": {
     "name": "#%%\n"
    }
   }
  },
  {
   "cell_type": "code",
   "execution_count": null,
   "outputs": [],
   "source": [],
   "metadata": {
    "collapsed": false,
    "pycharm": {
     "name": "#%%\n"
    }
   }
  }
 ],
 "metadata": {
  "kernelspec": {
   "display_name": "Python 3",
   "language": "python",
   "name": "python3"
  },
  "language_info": {
   "codemirror_mode": {
    "name": "ipython",
    "version": 2
   },
   "file_extension": ".py",
   "mimetype": "text/x-python",
   "name": "python",
   "nbconvert_exporter": "python",
   "pygments_lexer": "ipython2",
   "version": "2.7.6"
  }
 },
 "nbformat": 4,
 "nbformat_minor": 0
}