{
 "cells": [
  {
   "cell_type": "code",
   "execution_count": 1,
   "outputs": [],
   "source": [
    "import sys\n",
    "sys.path.append('../hydroml')\n",
    "\n",
    "from hydroml.dataset import EnergyDensityDataset\n",
    "from hydroml.utils import trim"
   ],
   "metadata": {
    "collapsed": false,
    "pycharm": {
     "name": "#%%\n"
    }
   }
  },
  {
   "cell_type": "code",
   "execution_count": null,
   "outputs": [],
   "source": [
    "# dataset = EnergyDensityDataset('../Datasets/dE_data-5.02tev/dE_detas_initial', '../Datasets/dE_data-5.02tev/dET_deta_final')\n",
    "\n",
    "dataset = EnergyDensityDataset('../Datasets/dE_data-5.02tev/dE_detas_initial', '../Datasets/dE_data-5.02tev/dET_deta_final').smooth()\n",
    "\n",
    "#dataset = EnergyDensityDataset('../Datasets/dE_data/dE_detas_initial', '../Datasets/dE_data/dNch_deta_final').smooth()\n",
    "\n",
    "print(dataset[0][0].shape)\n",
    "print(dataset[0][1].shape)"
   ],
   "metadata": {
    "collapsed": false,
    "pycharm": {
     "name": "#%%\n"
    }
   }
  },
  {
   "cell_type": "code",
   "execution_count": null,
   "outputs": [],
   "source": [
    "from torch.nn import Conv1d\n",
    "\n",
    "conv = Conv1d(in_channels= 1, out_channels= 1, kernel_size=16, stride=1, padding='same', bias=False)"
   ],
   "metadata": {
    "collapsed": false,
    "pycharm": {
     "name": "#%%\n"
    }
   }
  },
  {
   "cell_type": "code",
   "execution_count": null,
   "outputs": [],
   "source": [
    "from torch import Tensor, reshape\n",
    "import torch.nn as nn\n",
    "import numpy as np\n",
    "\n",
    "dp = Tensor(dataset[567][0]/np.cosh(dataset.start_eta))\n",
    "dp = reshape(dp, (1, 1, len(dataset[1][0])))\n",
    "\n",
    "r = nn.ReLU()\n",
    "\n",
    "output = r(conv(dp))"
   ],
   "metadata": {
    "collapsed": false,
    "pycharm": {
     "name": "#%%\n"
    }
   }
  },
  {
   "cell_type": "code",
   "execution_count": null,
   "outputs": [],
   "source": [
    "import matplotlib.pyplot as plt\n",
    "from numpy import linspace\n",
    "\n",
    "output = output.detach().numpy().flatten()\n",
    "print(len(output))\n",
    "\n",
    "len1 = linspace(-8, 8, len(dataset[1][0]))\n",
    "len2 = linspace(dataset.final_eta[0], dataset.final_eta[-1], len(output))\n",
    "len3 = linspace(dataset.final_eta[0], dataset.final_eta[-1], len(dataset[1][1]))\n",
    "\n",
    "plt.plot(len1, dp.numpy().flatten())\n",
    "plt.plot(len2, output)\n",
    "plt.plot(len3, dataset[1][1])\n",
    "plt.axvline(x=-4.9, color='red')\n",
    "plt.axvline(x=0, color='red')\n",
    "plt.show()"
   ],
   "metadata": {
    "collapsed": false,
    "pycharm": {
     "name": "#%%\n"
    }
   }
  },
  {
   "cell_type": "code",
   "execution_count": null,
   "outputs": [],
   "source": [],
   "metadata": {
    "collapsed": false,
    "pycharm": {
     "name": "#%%\n"
    }
   }
  }
 ],
 "metadata": {
  "kernelspec": {
   "display_name": "Python 3",
   "language": "python",
   "name": "python3"
  },
  "language_info": {
   "codemirror_mode": {
    "name": "ipython",
    "version": 2
   },
   "file_extension": ".py",
   "mimetype": "text/x-python",
   "name": "python",
   "nbconvert_exporter": "python",
   "pygments_lexer": "ipython2",
   "version": "2.7.6"
  }
 },
 "nbformat": 4,
 "nbformat_minor": 0
}