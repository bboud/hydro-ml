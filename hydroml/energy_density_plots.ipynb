{
 "cells": [
  {
   "cell_type": "markdown",
   "source": [
    "# Plotting Energy Density Transform"
   ],
   "metadata": {
    "collapsed": false,
    "pycharm": {
     "name": "#%% md\n"
    }
   }
  },
  {
   "cell_type": "code",
   "execution_count": null,
   "outputs": [],
   "source": [
    "from data import DEData\n",
    "import torch\n",
    "import numpy as np\n",
    "import matplotlib.gridspec as gridspec\n",
    "import matplotlib.pyplot as plt"
   ],
   "metadata": {
    "collapsed": false,
    "pycharm": {
     "name": "#%%\n"
    }
   }
  },
  {
   "cell_type": "code",
   "execution_count": null,
   "outputs": [],
   "source": [
    "dataset = DEData('dE_data_2')\n",
    "\n",
    "data_loader = torch.utils.data.DataLoader(\n",
    "    dataset=dataset,\n",
    "    shuffle=True\n",
    ")"
   ],
   "metadata": {
    "collapsed": false,
    "pycharm": {
     "name": "#%%\n"
    }
   }
  },
  {
   "cell_type": "code",
   "execution_count": null,
   "outputs": [],
   "source": [
    "model = torch.load('dE_model.pt')\n",
    "model.eval()"
   ],
   "metadata": {
    "collapsed": false,
    "pycharm": {
     "name": "#%%\n"
    }
   }
  },
  {
   "cell_type": "code",
   "execution_count": null,
   "outputs": [],
   "source": [
    "graph_1_sums = []\n",
    "graph_2_sums = []\n",
    "\n",
    "for i, data in enumerate(data_loader):\n",
    "    dE_initial = data[0]\n",
    "    dNch_deta_final = data[1]\n",
    "    x_axis = dataset.data_axis\n",
    "\n",
    "    outputs = model(dE_initial.float())\n",
    "\n",
    "    indices = []\n",
    "    sum_x_axis = []\n",
    "\n",
    "    for i, eta in enumerate(x_axis):\n",
    "        if -4.9 < x_axis[i] < -4:\n",
    "            indices.append(i)\n",
    "            sum_x_axis.append(eta)\n",
    "\n",
    "    for i, p in enumerate(dNch_deta_final):\n",
    "        graph_1_sums.append( ( np.trapz(dE_initial[i][indices[0] : indices[-1] + 1], x=sum_x_axis), np.trapz(p[indices[0] : indices[-1] + 1], x=sum_x_axis) )  )\n",
    "\n",
    "        graph_2_sums.append( ( np.trapz(outputs.detach().numpy()[i][indices[0] : indices[-1] + 1], x=sum_x_axis), np.trapz(p[indices[0] : indices[-1] + 1], x=sum_x_axis) )  )"
   ],
   "metadata": {
    "collapsed": false,
    "pycharm": {
     "name": "#%%\n"
    }
   }
  },
  {
   "cell_type": "code",
   "execution_count": null,
   "outputs": [],
   "source": [
    "gs = gridspec.GridSpec(1, 2)\n",
    "fig = plt.figure(figsize=(15, 5))\n",
    "fig.suptitle(\"Model vs Actual Output Comparison\")\n",
    "\n",
    "ax0 = fig.add_subplot(gs[0, 0])\n",
    "\n",
    "for sum in graph_1_sums:\n",
    "    ax0.plot(sum[0], sum[1], 'x', color='red')\n",
    "ax0.set_xlabel('Initial Input')\n",
    "ax0.set_ylabel('Actual Output')\n",
    "\n",
    "ax1 = fig.add_subplot(gs[0, 1])\n",
    "\n",
    "for sum in graph_2_sums:\n",
    "    ax1.plot(sum[0], sum[1], 'x', color='blue')\n",
    "\n",
    "ax1.set_xlabel('Generated Output')\n",
    "ax1.set_ylabel('Actual Output')\n",
    "\n",
    "plt.show()"
   ],
   "metadata": {
    "collapsed": false,
    "pycharm": {
     "name": "#%%\n"
    }
   }
  },
  {
   "cell_type": "code",
   "execution_count": null,
   "outputs": [],
   "source": [],
   "metadata": {
    "collapsed": false,
    "pycharm": {
     "name": "#%%\n"
    }
   }
  }
 ],
 "metadata": {
  "kernelspec": {
   "display_name": "Python 3",
   "language": "python",
   "name": "python3"
  },
  "language_info": {
   "codemirror_mode": {
    "name": "ipython",
    "version": 2
   },
   "file_extension": ".py",
   "mimetype": "text/x-python",
   "name": "python",
   "nbconvert_exporter": "python",
   "pygments_lexer": "ipython2",
   "version": "2.7.6"
  }
 },
 "nbformat": 4,
 "nbformat_minor": 0
}