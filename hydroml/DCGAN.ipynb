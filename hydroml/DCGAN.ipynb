{
 "cells": [
  {
   "cell_type": "code",
   "execution_count": null,
   "outputs": [],
   "source": [
    "# %matplotlib inline\n",
    "\n",
    "from IPython import display\n",
    "\n",
    "import numpy as np\n",
    "import matplotlib.pyplot as plt\n",
    "\n",
    "from hydroml import model as m\n",
    "from hydroml.data import Data\n",
    "from torch import nn\n",
    "\n",
    "import torch\n",
    "import hydroml.plot as plot"
   ],
   "metadata": {
    "collapsed": false,
    "pycharm": {
     "name": "#%%\n"
    }
   }
  },
  {
   "cell_type": "code",
   "execution_count": null,
   "outputs": [],
   "source": [
    "batch_size = 64\n",
    "ngpu = 0\n",
    "# Epochs set to '1' for testing\n",
    "epochs = 100\n",
    "learning_rate = 5e-5\n",
    "beta1 = 0.9\n",
    "nz = 100\n",
    "ndf = 512\n",
    "ngf = 512\n",
    "n_samples = batch_size*20"
   ],
   "metadata": {
    "collapsed": false,
    "pycharm": {
     "name": "#%%\n"
    }
   }
  },
  {
   "cell_type": "code",
   "execution_count": null,
   "outputs": [],
   "source": [
    "# Decide which device we want to run on\n",
    "device = torch.device(\"cuda:0\" if (torch.cuda.is_available() and ngpu > 0) else \"cpu\")"
   ],
   "metadata": {
    "collapsed": false,
    "pycharm": {
     "name": "#%%\n"
    }
   }
  },
  {
   "cell_type": "code",
   "execution_count": null,
   "outputs": [],
   "source": [
    "dataset = Data( n_samples )\n",
    "data_loader = torch.utils.data.DataLoader(\n",
    "    dataset=dataset,\n",
    "    batch_size=batch_size,\n",
    "    shuffle=True,\n",
    ")"
   ],
   "metadata": {
    "collapsed": false,
    "pycharm": {
     "name": "#%%\n"
    }
   }
  },
  {
   "cell_type": "code",
   "execution_count": null,
   "outputs": [],
   "source": [
    "discriminator = m.Discriminator(ndf)\n",
    "print(discriminator)\n",
    "\n",
    "generator = m.Generator(ngf, nz)\n",
    "print(generator)\n",
    "\n",
    "# Hook onto one of the model layers to see the output of the layer.\n",
    "# discriminator.input_layer.register_forward_hook(plot.layer_hook())\n",
    "# discriminator.layer1.register_forward_hook(plot.layer_hook())\n",
    "# discriminator.layer2.register_forward_hook(plot.layer_hook())\n",
    "# discriminator.layer3.register_forward_hook(plot.layer_hook())\n",
    "# discriminator.layer4.register_forward_hook(plot.layer_hook())"
   ],
   "metadata": {
    "collapsed": false,
    "pycharm": {
     "name": "#%%\n"
    }
   }
  },
  {
   "cell_type": "code",
   "execution_count": null,
   "outputs": [],
   "source": [
    "disc_optimizer = torch.optim.Adam(discriminator.parameters(), lr=learning_rate, betas=(beta1, 0.999))\n",
    "\n",
    "gen_optimizer = torch.optim.Adam(generator.parameters(), lr=learning_rate, betas=(beta1, 0.999))"
   ],
   "metadata": {
    "collapsed": false,
    "pycharm": {
     "name": "#%%\n"
    }
   }
  },
  {
   "cell_type": "code",
   "execution_count": null,
   "outputs": [],
   "source": [
    "loss_func = nn.BCEWithLogitsLoss()"
   ],
   "metadata": {
    "collapsed": false,
    "pycharm": {
     "name": "#%%\n"
    }
   }
  },
  {
   "cell_type": "code",
   "execution_count": null,
   "outputs": [],
   "source": [
    "hard_real = torch.full((batch_size,), 1, dtype=torch.float32, device=device, requires_grad=False)\n",
    "hard_fake = torch.full((batch_size,), 0, dtype=torch.float32, device=device, requires_grad=False)"
   ],
   "metadata": {
    "collapsed": false,
    "pycharm": {
     "name": "#%%\n"
    }
   }
  },
  {
   "cell_type": "code",
   "execution_count": null,
   "outputs": [],
   "source": [
    "disc_loss_total = []\n",
    "gen_loss_total = []\n",
    "real_total = []\n",
    "fake_total = []\n",
    "\n",
    "for epoch in range(epochs):\n",
    "    for i, data in enumerate(data_loader):\n",
    "        i_batch_size = data.size()[0]\n",
    "        i_batch = data.to(device)\n",
    "\n",
    "        #Discriminator\n",
    "\n",
    "        # Add noise to labels\n",
    "        real_labels = torch.randn_like(hard_real) * 0.10 + hard_real\n",
    "        fake_labels = torch.randn_like(hard_fake) * 0.10 + hard_fake\n",
    "\n",
    "        disc_optimizer.zero_grad()\n",
    "        real_output = discriminator(i_batch).view(-1)\n",
    "        fake_output = discriminator(torch.randn( (batch_size, 1, 128 ) , device=device)).view(-1)\n",
    "\n",
    "        real_loss = loss_func(real_output, real_labels)\n",
    "        fake_loss = loss_func(fake_output, fake_labels)\n",
    "\n",
    "        discriminator_loss = fake_loss + real_loss\n",
    "        discriminator_loss.backward()\n",
    "        disc_optimizer.step()\n",
    "\n",
    "        #Generator\n",
    "\n",
    "        gen_optimizer.zero_grad()\n",
    "        generated_data = generator( torch.randn( batch_size, nz, 1 ) )\n",
    "        print(f'Generated Data Size: {generated_data.size()}')\n",
    "        predictions = discriminator(generated_data).view(-1)\n",
    "        print(f'Predictions Size: {predictions.size()}')\n",
    "\n",
    "        gen_loss = loss_func( torch.ones_like(predictions), predictions )\n",
    "        gen_loss.backward()\n",
    "        disc_optimizer.step()\n",
    "\n",
    "        # Keep statistics\n",
    "        mean_real_output = real_output.mean().item()\n",
    "        mean_fake_output = fake_output.mean().item()\n",
    "\n",
    "        disc_loss_total.append(discriminator_loss.item())\n",
    "        gen_loss_total.append(gen_loss.item())\n",
    "        real_total.append(mean_real_output)\n",
    "        fake_total.append(mean_fake_output)\n",
    "\n",
    "        display.clear_output(wait=True)\n",
    "\n",
    "        plot.plot_telemetry(disc_loss_total, gen_loss_total, real_total, fake_total)\n",
    "\n",
    "        print(f\"Epoch [{epoch+1}/{epochs}], Batch [{i+1}/{len(dataset) // batch_size}], loss_d: {discriminator_loss:.4f}, mean_real_output: {mean_real_output:.4f}, mean_fake_output: {mean_fake_output:.4f}\")"
   ],
   "metadata": {
    "collapsed": false,
    "pycharm": {
     "name": "#%%\n"
    }
   }
  },
  {
   "cell_type": "code",
   "execution_count": null,
   "outputs": [],
   "source": [],
   "metadata": {
    "collapsed": false,
    "pycharm": {
     "name": "#%%\n"
    }
   }
  }
 ],
 "metadata": {
  "kernelspec": {
   "display_name": "Python 3 (ipykernel)",
   "language": "python",
   "name": "python3"
  },
  "language_info": {
   "codemirror_mode": {
    "name": "ipython",
    "version": 3
   },
   "file_extension": ".py",
   "mimetype": "text/x-python",
   "name": "python",
   "nbconvert_exporter": "python",
   "pygments_lexer": "ipython3",
   "version": "3.9.9"
  }
 },
 "nbformat": 4,
 "nbformat_minor": 5
}