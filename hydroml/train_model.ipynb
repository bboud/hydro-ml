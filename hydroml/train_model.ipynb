{
 "cells": [
  {
   "cell_type": "code",
   "execution_count": null,
   "id": "010c0f26",
   "metadata": {
    "pycharm": {
     "name": "#%%\n"
    }
   },
   "outputs": [],
   "source": [
    "%matplotlib inline\n",
    "\n",
    "from model import Simple\n",
    "from data import Data, RealData\n",
    "from utils import ImageChannel, Mode\n",
    "\n",
    "from torch import nn\n",
    "\n",
    "import torch\n",
    "import plot"
   ]
  },
  {
   "cell_type": "code",
   "execution_count": null,
   "id": "27bb8fc3",
   "metadata": {
    "pycharm": {
     "name": "#%%\n"
    }
   },
   "outputs": [],
   "source": [
    "batch_size = 64\n",
    "ngpu = 0\n",
    "# Epochs set to '1' for testing\n",
    "epochs = 500\n",
    "learning_rate = 1e-4\n",
    "beta1 = 0.9\n",
    "n_samples = 8192"
   ]
  },
  {
   "cell_type": "code",
   "execution_count": null,
   "id": "cbd5c028",
   "metadata": {
    "pycharm": {
     "name": "#%%\n"
    }
   },
   "outputs": [],
   "source": [
    "# Decide which device we want to run on\n",
    "device = torch.device(\"cuda:0\" if (torch.cuda.is_available() and ngpu > 0) else \"cpu\")"
   ]
  },
  {
   "cell_type": "code",
   "execution_count": null,
   "id": "3892dfe5",
   "metadata": {
    "pycharm": {
     "name": "#%%\n"
    }
   },
   "outputs": [],
   "source": [
    "dataset = Data( n_samples )\n",
    "\n",
    "data_loader = torch.utils.data.DataLoader(\n",
    "    dataset=dataset,\n",
    "    batch_size=batch_size,\n",
    "    shuffle=True,\n",
    ")"
   ]
  },
  {
   "cell_type": "code",
   "execution_count": null,
   "id": "992cc8cd",
   "metadata": {
    "pycharm": {
     "name": "#%%\n"
    }
   },
   "outputs": [],
   "source": [
    "# This is used to pass data to and from the hooks. Communicates state and layer output images.\n",
    "d_image_channel = ImageChannel()\n",
    "\n",
    "def hook_to_simple(d):\n",
    "    handlers = []\n",
    "    handlers.append(d.input_layer.register_forward_hook(plot.simple_layer_hook(\"Input Layer\", d_image_channel)))\n",
    "    handlers.append(d.second_layer.register_forward_hook(plot.simple_layer_hook(\"Second Layer\", d_image_channel)))\n",
    "    handlers.append(d.third_layers.register_forward_hook(plot.simple_layer_hook(\"Third Layer\", d_image_channel)))\n",
    "    handlers.append(d.fourth_layers.register_forward_hook(plot.simple_layer_hook(\"Fourth Layer\", d_image_channel)))\n",
    "\n",
    "    return handlers"
   ]
  },
  {
   "cell_type": "code",
   "execution_count": null,
   "id": "ac42590f",
   "metadata": {
    "pycharm": {
     "name": "#%%\n"
    }
   },
   "outputs": [],
   "source": [
    "simple = Simple()\n",
    "\n",
    "# You can toggle these on or off as you like by commenting them out.\n",
    "\n",
    "# handlers = hook_to_simple(simple)"
   ]
  },
  {
   "cell_type": "code",
   "execution_count": null,
   "id": "4159f9a2",
   "metadata": {
    "pycharm": {
     "name": "#%%\n"
    }
   },
   "outputs": [],
   "source": [
    "optimizer = torch.optim.Adam(simple.parameters(), lr=learning_rate, betas=(beta1, 0.999))"
   ]
  },
  {
   "cell_type": "code",
   "execution_count": null,
   "id": "52db75ab",
   "metadata": {
    "pycharm": {
     "name": "#%%\n"
    }
   },
   "outputs": [],
   "source": [
    "loss_func = nn.MSELoss()"
   ]
  },
  {
   "cell_type": "code",
   "execution_count": null,
   "id": "b4157312",
   "metadata": {
    "pycharm": {
     "name": "#%%\n"
    }
   },
   "outputs": [],
   "source": [
    "disc_loss_total = []\n",
    "\n",
    "for epoch in range(epochs):\n",
    "    for i, data in enumerate(data_loader):\n",
    "        baryons = data[0]\n",
    "        protons = data[1]\n",
    "\n",
    "        optimizer.zero_grad()\n",
    "\n",
    "        #d_image_channel.set_mode(Mode.GENERATED)\n",
    "        output = simple(baryons)\n",
    "\n",
    "        loss = loss_func(output, protons)\n",
    "\n",
    "        loss.backward()\n",
    "        optimizer.step()\n",
    "\n",
    "        #disc_loss_total.append(loss.detach().numpy())\n",
    "\n",
    "        if i % 128 == 0:\n",
    "            #plot.plot_telemetry(d_image_channel, disc_loss_total, output.detach().numpy(), protons)\n",
    "\n",
    "            print(f\"Epoch [{epoch+1}/{epochs}], Batch [{i+1}/{len(dataset) // batch_size}], loss: {loss:.4f}\")\n",
    "\n",
    "        #d_image_channel.reset()\n",
    "\n",
    "# for handle in handlers:\n",
    "#     handle.remove()"
   ]
  },
  {
   "cell_type": "code",
   "execution_count": null,
   "outputs": [],
   "source": [
    "torch.save(simple, './simple_model.pt')"
   ],
   "metadata": {
    "collapsed": false,
    "pycharm": {
     "name": "#%%\n"
    }
   }
  },
  {
   "cell_type": "code",
   "execution_count": null,
   "outputs": [],
   "source": [],
   "metadata": {
    "collapsed": false,
    "pycharm": {
     "name": "#%%\n"
    }
   }
  }
 ],
 "metadata": {
  "kernelspec": {
   "display_name": "Python 3 (ipykernel)",
   "language": "python",
   "name": "python3"
  },
  "language_info": {
   "codemirror_mode": {
    "name": "ipython",
    "version": 3
   },
   "file_extension": ".py",
   "mimetype": "text/x-python",
   "name": "python",
   "nbconvert_exporter": "python",
   "pygments_lexer": "ipython3",
   "version": "3.10.5"
  }
 },
 "nbformat": 4,
 "nbformat_minor": 5
}