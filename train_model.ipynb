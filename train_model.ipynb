{
 "cells": [
  {
   "cell_type": "code",
   "execution_count": null,
   "id": "welcome-closer",
   "metadata": {},
   "outputs": [],
   "source": [
    "%matplotlib inline\n",
    "\n",
    "import tensorflow as tf\n",
    "#from tensorflow import keras\n",
    "from tensorflow.keras.models import Sequential\n",
    "from tensorflow.keras import layers\n",
    "from tensorflow.keras.optimizers import Adam\n",
    "from tensorflow.keras.metrics import binary_crossentropy\n",
    "from tensorflow.keras import Input\n",
    "\n",
    "import os\n",
    "import numpy as np\n",
    "import matplotlib.pyplot as plt"
   ]
  },
  {
   "cell_type": "code",
   "execution_count": null,
   "id": "passing-wallet",
   "metadata": {},
   "outputs": [],
   "source": [
    "def Kernel(x, x0):\n",
    "    sigma = 0.8\n",
    "    protonFraction = 0.4\n",
    "    norm = protonFraction/(np.sqrt(2.*np.pi)*sigma)\n",
    "    return(norm*np.exp(-(x - x0)**2./(2.*sigma**2.)))\n",
    "\n",
    "def testDataGen():\n",
    "    A = 197\n",
    "    yBeam = 5.36\n",
    "    slope = 0.5\n",
    "    sigmaEtas = 0.2\n",
    "    \n",
    "    # generate input data\n",
    "    nBaryons = np.random.randint(0, 2*A)\n",
    "    randX = np.random.uniform(0, 1, size=nBaryons)\n",
    "    etasBaryon = 1./slope*np.arcsinh((2.*randX - 1)*np.sinh(slope*yBeam))\n",
    "    etasArr = np.linspace(-6.4, 6.4, 128)\n",
    "    dNBdetas = np.zeros(len(etasArr))\n",
    "    norm = 1./(np.sqrt(2.*np.pi)*sigmaEtas)\n",
    "    for iB in etasBaryon:\n",
    "        dNBdetas += norm*np.exp(-(etasArr - iB)**2./(2.*sigmaEtas**2.))\n",
    "    \n",
    "    # generate test data with convolution with a kernel\n",
    "    dNpdy = np.zeros(len(etasArr))\n",
    "    detas = etasArr[1] - etasArr[0]\n",
    "    for i in range(len(etasArr)):\n",
    "        dNpdy[i] = sum(Kernel(etasArr, etasArr[i])*dNBdetas)*detas\n",
    "        \n",
    "    # generate fake data with random noise\n",
    "    dNBdetasFake = np.random.uniform(0.0, dNBdetas.max(), size=len(etasArr))\n",
    "    dNpdyFake = np.random.uniform(0.0, dNpdy.max(), size=len(etasArr))\n",
    "    return(etasArr, dNBdetas, dNpdy, dNBdetasFake, dNpdyFake)"
   ]
  },
  {
   "cell_type": "code",
   "execution_count": null,
   "id": "polyphonic-extraction",
   "metadata": {},
   "outputs": [],
   "source": [
    "x, y1, y2, y3, y4 = testDataGen()\n",
    "fig = plt.figure()\n",
    "plt.plot(x, y1)\n",
    "plt.plot(x, y2)\n",
    "fig = plt.figure()\n",
    "plt.plot(x, y3)\n",
    "plt.plot(x, y4)"
   ]
  },
  {
   "cell_type": "markdown",
   "id": "014cd095-ad29-49a1-91d1-c4c69144508c",
   "metadata": {},
   "source": [
    "This output is 'normal' ie. Real vs Noise"
   ]
  },
  {
   "cell_type": "code",
   "execution_count": null,
   "id": "07b24c53-7e50-4489-a6d5-e5ebbd7e9bfc",
   "metadata": {},
   "outputs": [],
   "source": [
    "def FakeKernel(x, x0):\n",
    "    sigma = 0.5 #Just a slight nudge\n",
    "    protonFraction = 0.4\n",
    "    norm = protonFraction/(np.sqrt(2.*np.pi)*sigma)\n",
    "    return(norm*np.exp(-(x - x0)**2./(2.*sigma**2.)))\n",
    "\n",
    "def testDataGenFakeKernel():\n",
    "    A = 197\n",
    "    yBeam = 5.36\n",
    "    slope = 0.5\n",
    "    sigmaEtas = 0.2\n",
    "    \n",
    "    # generate input data\n",
    "    nBaryons = np.random.randint(0, 2*A)\n",
    "    randX = np.random.uniform(0, 1, size=nBaryons)\n",
    "    etasBaryon = 1./slope*np.arcsinh((2.*randX - 1)*np.sinh(slope*yBeam))\n",
    "    etasArr = np.linspace(-6.4, 6.4, 128)\n",
    "    dNBdetas = np.zeros(len(etasArr))\n",
    "    norm = 1./(np.sqrt(2.*np.pi)*sigmaEtas)\n",
    "    for iB in etasBaryon:\n",
    "        dNBdetas += norm*np.exp(-(etasArr - iB)**2./(2.*sigmaEtas**2.))\n",
    "    \n",
    "    # generate test data with convolution with a kernel\n",
    "    dNpdy = np.zeros(len(etasArr))\n",
    "    detas = etasArr[1] - etasArr[0]\n",
    "    for i in range(len(etasArr)):\n",
    "        dNpdy[i] = sum(Kernel(etasArr, etasArr[i])*dNBdetas)*detas\n",
    "    \n",
    "    # generate input data\n",
    "    dNBdetasFake = np.zeros(len(etasArr))\n",
    "    for iB in etasBaryon:\n",
    "        dNBdetasFake += norm*np.exp(-(etasArr - iB)**2./(2.*sigmaEtas**2.))\n",
    "    \n",
    "    # generate test data with convolution with a kernel\n",
    "    dNpdyFake = np.zeros(len(etasArr))\n",
    "    detas = etasArr[1] - etasArr[0]\n",
    "    for i in range(len(etasArr)):\n",
    "        dNpdyFake[i] = sum(FakeKernel(etasArr, etasArr[i])*dNBdetas)*detas\n",
    "    return(etasArr, dNBdetas, dNpdy, dNBdetasFake, dNpdyFake)"
   ]
  },
  {
   "cell_type": "code",
   "execution_count": null,
   "id": "dbc46ad9-0727-4ea6-aff8-12d6832a396b",
   "metadata": {},
   "outputs": [],
   "source": [
    "x, y1, y2, y3, y4 = testDataGenFakeKernel()\n",
    "plt.plot(x, y1)\n",
    "plt.plot(x, y2)\n",
    "fig = plt.figure()\n",
    "plt.plot(x, y3)\n",
    "plt.plot(x, y4)\n",
    "fig = plt.figure()"
   ]
  },
  {
   "cell_type": "markdown",
   "id": "68687e17-c4c6-4270-ac61-c3480b0c3c78",
   "metadata": {},
   "source": [
    "Sigma has been changed slightly. FakeKernel output."
   ]
  },
  {
   "cell_type": "code",
   "execution_count": null,
   "id": "english-economy",
   "metadata": {},
   "outputs": [],
   "source": [
    "def generateData(size=500):\n",
    "    print('Generating Data...')\n",
    "    dataArr = []\n",
    "    labelArr = []  \n",
    "    for iev in range(size):\n",
    "        x, y1, y2, y3, y4 = testDataGen()\n",
    "        \n",
    "        # real data\n",
    "        x = y2\n",
    "        dataArr.append(x)\n",
    "        labelArr.append(1)\n",
    "        \n",
    "        # fake data: random\n",
    "        x = y4\n",
    "        dataArr.append(x)\n",
    "        labelArr.append(0)\n",
    "        \n",
    "        x, y1, y2, y3, y4 = testDataGenFakeKernel()\n",
    "        \n",
    "        # real data\n",
    "        x = y2\n",
    "        dataArr.append(x)\n",
    "        labelArr.append(1)\n",
    "        \n",
    "        # fake data: FakeKernel\n",
    "        x = y4\n",
    "        dataArr.append(x)\n",
    "        labelArr.append(0)\n",
    "        \n",
    "    print(\"done\")\n",
    "    return(np.array(dataArr), np.array(labelArr))"
   ]
  },
  {
   "cell_type": "markdown",
   "id": "8433095b-06df-44fa-afd1-23cfeaf3c6d6",
   "metadata": {},
   "source": [
    "Here I have appended to the dataArr the real data, the noise, and the fake kernel with the sigma change."
   ]
  },
  {
   "cell_type": "code",
   "execution_count": null,
   "id": "unusual-jacket",
   "metadata": {},
   "outputs": [],
   "source": [
    "def trainModel(dimShape):\n",
    "    #Sequential model\n",
    "    model = Sequential([\n",
    "        #Acurracy is achieved much faster with 4 input nodes.\n",
    "        layers.Dense(units=4, activation='relu', input_shape=dimShape),\n",
    "        layers.Dense(units=1, activation='sigmoid')\n",
    "    ])\n",
    "    model.summary()\n",
    "\n",
    "    model.compile(loss='binary_crossentropy',\n",
    "                  optimizer=Adam(learning_rate=0.0001),\n",
    "                  metrics=['accuracy'])\n",
    "    return(model)"
   ]
  },
  {
   "cell_type": "code",
   "execution_count": null,
   "id": "devoted-preference",
   "metadata": {},
   "outputs": [],
   "source": [
    "data, label = generateData(1000)"
   ]
  },
  {
   "cell_type": "code",
   "execution_count": null,
   "id": "wireless-pleasure",
   "metadata": {},
   "outputs": [],
   "source": [
    "model = trainModel(data.shape[1:])"
   ]
  },
  {
   "cell_type": "code",
   "execution_count": null,
   "id": "helpful-redhead",
   "metadata": {},
   "outputs": [],
   "source": [
    "Nepochs = 200\n",
    "#Fit will actually train the model.\n",
    "# X: input of shape (141,2)\n",
    "# Y: target catagorization, either 1 or 0. Shape (141,2) for consistancy with X\n",
    "model.fit(\n",
    "    x=np.array(data),\n",
    "    y=np.array(label),\n",
    "    epochs=Nepochs,\n",
    "    shuffle=True,\n",
    "    validation_split=0.1,\n",
    "    use_multiprocessing=True,\n",
    "    workers=25,\n",
    "    verbose=0\n",
    ")"
   ]
  },
  {
   "cell_type": "code",
   "execution_count": null,
   "id": "enabling-albania",
   "metadata": {},
   "outputs": [],
   "source": [
    "# generate testing data\n",
    "testData, testLabels = generateData(1000)"
   ]
  },
  {
   "cell_type": "code",
   "execution_count": null,
   "id": "thrown-album",
   "metadata": {
    "scrolled": true
   },
   "outputs": [],
   "source": [
    "predictions = model.predict(testData)"
   ]
  },
  {
   "cell_type": "code",
   "execution_count": null,
   "id": "champion-duplicate",
   "metadata": {},
   "outputs": [],
   "source": [
    "fig = plt.figure()\n",
    "plt.hist(abs(predictions.reshape(4000) - testLabels), 50);\n",
    "plt.xlim([-0.05, 1.05])"
   ]
  },
  {
   "cell_type": "markdown",
   "id": "c75094fa-b909-4af2-beab-b294b4372105",
   "metadata": {},
   "source": [
    "Save the model for loading later, if you would like to."
   ]
  },
  {
   "cell_type": "code",
   "execution_count": null,
   "id": "fb5bb226-e864-4518-a66c-32a2cc7a5b30",
   "metadata": {},
   "outputs": [],
   "source": [
    "#model.save_weights('./model/save')"
   ]
  },
  {
   "cell_type": "markdown",
   "id": "8fbf689f-c39c-4de0-b63b-9d209f2c6265",
   "metadata": {},
   "source": [
    "## Generator"
   ]
  },
  {
   "cell_type": "code",
   "execution_count": null,
   "id": "a9fee84f-d839-4c95-8a14-20ca2a40c1ed",
   "metadata": {},
   "outputs": [],
   "source": [
    "def generator_model():\n",
    "#    input = Input(shape=(100,)) #What does this do, exactly?\n",
    "\n",
    "    model = Sequential([\n",
    "        #First set of layers will be low resolution noise.\n",
    "        layers.Dense(32*200, input_shape=(100,)),\n",
    "        layers.BatchNormalization(),\n",
    "        layers.LeakyReLU(),\n",
    "        \n",
    "        #Now we will reshape and upsample to get the final output dimension which should be (128,)\n",
    "        layers.Reshape((32,200)),\n",
    "        \n",
    "        layers.Conv1DTranspose(64, 1, strides=2),\n",
    "        layers.BatchNormalization(),\n",
    "        layers.LeakyReLU(),\n",
    "        \n",
    "        layers.Conv1DTranspose(128, 1, strides=2),\n",
    "        layers.BatchNormalization(),\n",
    "        layers.LeakyReLU(),\n",
    "        \n",
    "        layers.Conv1DTranspose(1,1, activation=\"tanh\")\n",
    "    ])\n",
    "    model.summary()\n",
    "\n",
    "    model.compile(loss='binary_crossentropy',\n",
    "                  optimizer=Adam(learning_rate=0.0001),\n",
    "                  metrics=['accuracy'])\n",
    "    return(model)"
   ]
  },
  {
   "cell_type": "code",
   "execution_count": null,
   "id": "28cb9db2-2231-48e5-8d84-d15a99d599c2",
   "metadata": {},
   "outputs": [],
   "source": [
    "gen = generator_model()"
   ]
  },
  {
   "cell_type": "code",
   "execution_count": null,
   "id": "2badc9d0-0d0a-4beb-8a9a-03a52d6bb370",
   "metadata": {},
   "outputs": [],
   "source": [
    "noise = tf.random.normal([1,100])\n",
    "generated_data = []\n",
    "\n",
    "generated_data.append(np.array(tf.reshape(gen(noise, training=False), (128,))))\n",
    "generated_data.append(np.array(tf.reshape(gen(noise, training=False), (128,))))\n",
    "generated_data = np.array(generated_data)"
   ]
  },
  {
   "cell_type": "code",
   "execution_count": null,
   "id": "4eaab6f8-881a-4e68-8552-4249005b6c86",
   "metadata": {},
   "outputs": [],
   "source": [
    "plt.plot(x, generated_data[0], color=\"orange\")"
   ]
  },
  {
   "cell_type": "markdown",
   "id": "9b76a484-ec73-4662-8665-aa06a6d35b11",
   "metadata": {},
   "source": [
    "What does the discriminator think?"
   ]
  },
  {
   "cell_type": "code",
   "execution_count": null,
   "id": "e970e8fb-45f2-4f6a-b364-842c40e1a99c",
   "metadata": {},
   "outputs": [],
   "source": [
    "assert generated_data[0].shape == testData[0].shape\n",
    "disc = trainModel(generated_data[0].shape)\n",
    "disc.load_weights(\"model/save\")\n",
    "predictions = disc.predict(generated_data)\n",
    "print(predictions)\n",
    "fig = plt.figure()\n",
    "plt.hist(abs(predictions.reshape(2) - [0,0]), 50);\n",
    "plt.xlim([-0.05, 1.05])"
   ]
  }
 ],
 "metadata": {
  "kernelspec": {
   "display_name": "Python 3 (ipykernel)",
   "language": "python",
   "name": "python3"
  },
  "language_info": {
   "codemirror_mode": {
    "name": "ipython",
    "version": 3
   },
   "file_extension": ".py",
   "mimetype": "text/x-python",
   "name": "python",
   "nbconvert_exporter": "python",
   "pygments_lexer": "ipython3",
   "version": "3.9.9"
  }
 },
 "nbformat": 4,
 "nbformat_minor": 5
}
