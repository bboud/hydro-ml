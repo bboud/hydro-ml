{
 "cells": [
  {
   "cell_type": "code",
   "execution_count": null,
   "id": "welcome-closer",
   "metadata": {},
   "outputs": [],
   "source": [
    "%matplotlib inline\n",
    "\n",
    "import tensorflow as tf\n",
    "from tensorflow import keras\n",
    "from tensorflow.keras.models import Sequential\n",
    "from tensorflow.keras.layers import Activation, Dense\n",
    "from tensorflow.keras.optimizers import Adam\n",
    "from tensorflow.keras.metrics import binary_crossentropy\n",
    "\n",
    "import os\n",
    "import numpy as np\n",
    "import matplotlib.pyplot as plt"
   ]
  },
  {
   "cell_type": "code",
   "execution_count": null,
   "id": "passing-wallet",
   "metadata": {},
   "outputs": [],
   "source": [
    "def Kernel(x, x0):\n",
    "    sigma = 0.8\n",
    "    protonFraction = 0.4\n",
    "    norm = protonFraction/(np.sqrt(2.*np.pi)*sigma)\n",
    "    return(norm*np.exp(-(x - x0)**2./(2.*sigma**2.)))\n",
    "\n",
    "def testDataGen():\n",
    "    A = 197\n",
    "    yBeam = 5.36\n",
    "    slope = 0.5\n",
    "    sigmaEtas = 0.2\n",
    "    \n",
    "    # generate input data\n",
    "    nBaryons = np.random.randint(0, 2*A)\n",
    "    randX = np.random.uniform(0, 1, size=nBaryons)\n",
    "    etasBaryon = 1./slope*np.arcsinh((2.*randX - 1)*np.sinh(slope*yBeam))\n",
    "    etasArr = np.linspace(-6.4, 6.4, 128)\n",
    "    dNBdetas = np.zeros(len(etasArr))\n",
    "    norm = 1./(np.sqrt(2.*np.pi)*sigmaEtas)\n",
    "    for iB in etasBaryon:\n",
    "        dNBdetas += norm*np.exp(-(etasArr - iB)**2./(2.*sigmaEtas**2.))\n",
    "    \n",
    "    # generate test data with convolution with a kernel\n",
    "    dNpdy = np.zeros(len(etasArr))\n",
    "    detas = etasArr[1] - etasArr[0]\n",
    "    for i in range(len(etasArr)):\n",
    "        dNpdy[i] = sum(Kernel(etasArr, etasArr[i])*dNBdetas)*detas\n",
    "        \n",
    "    # generate fake data with random noise\n",
    "    dNBdetasFake = np.random.uniform(0.0, dNBdetas.max(), size=len(etasArr))\n",
    "    dNpdyFake = np.random.uniform(0.0, dNpdy.max(), size=len(etasArr))\n",
    "    return(etasArr, dNBdetas, dNpdy, dNBdetasFake, dNpdyFake)"
   ]
  },
  {
   "cell_type": "code",
   "execution_count": null,
   "id": "polyphonic-extraction",
   "metadata": {},
   "outputs": [],
   "source": [
    "x, y1, y2, y3, y4 = testDataGen()\n",
    "fig = plt.figure()\n",
    "plt.plot(x, y1)\n",
    "plt.plot(x, y2)\n",
    "fig = plt.figure()\n",
    "plt.plot(x, y3)\n",
    "plt.plot(x, y4)"
   ]
  },
  {
   "cell_type": "code",
   "execution_count": null,
   "id": "english-economy",
   "metadata": {},
   "outputs": [],
   "source": [
    "def generateData(size=500):\n",
    "    print('Generating Data...')\n",
    "    dataArr = []\n",
    "    labelArr = []  \n",
    "    for iev in range(size):\n",
    "        x, y1, y2, y3, y4 = testDataGen()\n",
    "        \n",
    "        dim = len(x)\n",
    "        \n",
    "        # real data\n",
    "        #x = np.hstack((y1.reshape(dim, 1), y2.reshape(dim, 1)))\n",
    "        x = y2\n",
    "        dataArr.append(x)\n",
    "        labelArr.append(1)\n",
    "        \n",
    "        # fake data\n",
    "        #x = np.hstack((y3.reshape(dim, 1), y4.reshape(dim, 1)))\n",
    "        x = y4\n",
    "        dataArr.append(x)\n",
    "        labelArr.append(0)\n",
    "        \n",
    "    print(\"done\")\n",
    "    return(np.array(dataArr), np.array(labelArr))"
   ]
  },
  {
   "cell_type": "code",
   "execution_count": null,
   "id": "unusual-jacket",
   "metadata": {},
   "outputs": [],
   "source": [
    "def trainModel(dimShape):\n",
    "    #Sequential model\n",
    "    model = Sequential([\n",
    "        Dense(units=32, activation='relu', input_shape=dimShape),\n",
    "        Dense(units=16, activation='relu'),\n",
    "        Dense(units=4, activation='relu'),\n",
    "        Dense(units=1, activation='sigmoid')\n",
    "    ])\n",
    "    model.summary()\n",
    "    \n",
    "    model.compile(loss='binary_crossentropy',\n",
    "                  optimizer=Adam(learning_rate=0.0001),\n",
    "                  metrics=['accuracy'])\n",
    "    return(model)"
   ]
  },
  {
   "cell_type": "code",
   "execution_count": null,
   "id": "devoted-preference",
   "metadata": {},
   "outputs": [],
   "source": [
    "data, label = generateData(5000)"
   ]
  },
  {
   "cell_type": "code",
   "execution_count": null,
   "id": "wireless-pleasure",
   "metadata": {},
   "outputs": [],
   "source": [
    "model = trainModel(data.shape[1:])"
   ]
  },
  {
   "cell_type": "code",
   "execution_count": null,
   "id": "helpful-redhead",
   "metadata": {},
   "outputs": [],
   "source": [
    "Nepochs = 100\n",
    "#Fit will actually train the model.\n",
    "# X: input of shape (141,2)\n",
    "# Y: target catagorization, either 1 or 0. Shape (141,2) for consistancy with X\n",
    "model.fit(\n",
    "    x=np.array(data),\n",
    "    y=np.array(label),\n",
    "    epochs=Nepochs,\n",
    "    shuffle=True,\n",
    "    validation_split=0.1,\n",
    "    use_multiprocessing=True,\n",
    "    workers=25,\n",
    "    verbose=2\n",
    ")"
   ]
  },
  {
   "cell_type": "code",
   "execution_count": null,
   "id": "enabling-albania",
   "metadata": {},
   "outputs": [],
   "source": [
    "# generate testing data\n",
    "testData, testLabels = generateData(100)"
   ]
  },
  {
   "cell_type": "code",
   "execution_count": null,
   "id": "thrown-album",
   "metadata": {
    "scrolled": true
   },
   "outputs": [],
   "source": [
    "predictions = model.predict(testData)"
   ]
  },
  {
   "cell_type": "code",
   "execution_count": null,
   "id": "champion-duplicate",
   "metadata": {},
   "outputs": [],
   "source": [
    "fig = plt.figure()\n",
    "plt.hist(abs(predictions.reshape(200) - testLabels), 50);\n",
    "plt.xlim([-0.05, 1.05])"
   ]
  },
  {
   "cell_type": "code",
   "execution_count": null,
   "id": "fb5bb226-e864-4518-a66c-32a2cc7a5b30",
   "metadata": {},
   "outputs": [],
   "source": [
    "model.save_weights('./weights')"
   ]
  }
 ],
 "metadata": {
  "kernelspec": {
   "display_name": "Python 3 (ipykernel)",
   "language": "python",
   "name": "python3"
  },
  "language_info": {
   "codemirror_mode": {
    "name": "ipython",
    "version": 3
   },
   "file_extension": ".py",
   "mimetype": "text/x-python",
   "name": "python",
   "nbconvert_exporter": "python",
   "pygments_lexer": "ipython3",
   "version": "3.9.9"
  }
 },
 "nbformat": 4,
 "nbformat_minor": 5
}
