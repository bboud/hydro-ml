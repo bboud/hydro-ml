{
 "cells": [
  {
   "cell_type": "code",
   "execution_count": 1,
   "id": "5c1aca15-4153-4f59-ada0-0f2ff904ba16",
   "metadata": {
    "tags": []
   },
   "outputs": [],
   "source": [
    "%matplotlib inline\n",
    "\n",
    "import tensorflow as tf\n",
    "#from tensorflow import keras\n",
    "from tensorflow.keras.models import Sequential\n",
    "from tensorflow.keras import layers\n",
    "from tensorflow.keras.optimizers import Adam\n",
    "from tensorflow.keras.metrics import binary_crossentropy\n",
    "from tensorflow.keras import Input\n",
    "\n",
    "import os\n",
    "import numpy as np\n",
    "import matplotlib.pyplot as plt\n",
    "\n",
    "from IPython import display"
   ]
  },
  {
   "cell_type": "code",
   "execution_count": 2,
   "id": "172d6424-e03e-447a-8ec8-d96d2f6d9b07",
   "metadata": {
    "tags": []
   },
   "outputs": [],
   "source": [
    "def Kernel(x, x0):\n",
    "    sigma = 0.8\n",
    "    protonFraction = 0.4\n",
    "    norm = protonFraction/(np.sqrt(2.*np.pi)*sigma)\n",
    "    return(norm*np.exp(-(x - x0)**2./(2.*sigma**2.)))\n",
    "\n",
    "def FakeKernel(x, x0):\n",
    "    sigma = 0.4 #Just a slight nudge\n",
    "    protonFraction = 0.4\n",
    "    norm = protonFraction/(np.sqrt(2.*np.pi)*sigma)\n",
    "    return(norm*np.exp(-(x - x0)**2./(2.*sigma**2.)))"
   ]
  },
  {
   "cell_type": "code",
   "execution_count": 3,
   "id": "91484237-4dfc-4ed1-a62a-b0a1702b20dd",
   "metadata": {
    "tags": []
   },
   "outputs": [],
   "source": [
    "def test_data_gen(fakeKernel=False):\n",
    "    A = 197\n",
    "    yBeam = 5.36\n",
    "    slope = 0.5\n",
    "    sigmaEtas = 0.2\n",
    "    \n",
    "    # generate input data\n",
    "    nBaryons = np.random.randint(0, 2*A)\n",
    "    randX = np.random.uniform(0, 1, size=nBaryons)\n",
    "    etasBaryon = 1./slope*np.arcsinh((2.*randX - 1)*np.sinh(slope*yBeam))\n",
    "    etasArr = np.linspace(-6.4, 6.4, 128)\n",
    "    dNBdetas = np.zeros(len(etasArr))\n",
    "    norm = 1./(np.sqrt(2.*np.pi)*sigmaEtas)\n",
    "    for iB in etasBaryon:\n",
    "        dNBdetas += norm*np.exp(-(etasArr - iB)**2./(2.*sigmaEtas**2.))\n",
    "    \n",
    "    # generate test data with convolution with a kernel\n",
    "    dNpdy = np.zeros(len(etasArr))\n",
    "    detas = etasArr[1] - etasArr[0]\n",
    "    for i in range(len(etasArr)):\n",
    "        dNpdy[i] = sum(Kernel(etasArr, etasArr[i])*dNBdetas)*detas\n",
    "    \n",
    "    if fakeKernel:\n",
    "        #generate test data with convolution with a fake kernel\n",
    "        dNBdetasFake = np.random.uniform(0.0, dNBdetas.max(), size=len(etasArr))\n",
    "        dNpdyFake = np.zeros(len(etasArr))\n",
    "        detas = etasArr[1] - etasArr[0]\n",
    "        for i in range(len(etasArr)):\n",
    "            dNpdyFake[i] = sum(FakeKernel(etasArr, etasArr[i])*dNBdetas)*detas\n",
    "            \n",
    "        return(etasArr, dNBdetas, dNpdy, dNBdetas, dNpdyFake)\n",
    "    else:\n",
    "        # generate fake data with random noise\n",
    "        dNBdetasFake = np.random.uniform(0.0, dNBdetas.max(), size=len(etasArr))\n",
    "        dNpdyFake = np.random.uniform(0.0, dNpdy.max(), size=len(etasArr))\n",
    "\n",
    "        return(etasArr, dNBdetas, dNpdy, dNBdetasFake, dNpdyFake)"
   ]
  },
  {
   "cell_type": "code",
   "execution_count": 11,
   "id": "0b039d5d-361c-4ba3-ad9f-8c303d2d2c94",
   "metadata": {
    "tags": []
   },
   "outputs": [],
   "source": [
    "def show_test_data_graph():\n",
    "    x, y1, y2, y3, y4 = test_data_gen(fakeKernel=True)\n",
    "    plt.plot(x, y1)\n",
    "    plt.plot(x, y2)\n",
    "    fig = plt.figure()\n",
    "    plt.plot(x, y3)\n",
    "    plt.plot(x, y4)\n",
    "    fig = plt.figure()\n",
    "    \n",
    "    x, y1, y2, y3, y4 = test_data_gen(fakeKernel=False)\n",
    "    plt.plot(x, y1)\n",
    "    plt.plot(x, y2)\n",
    "    fig = plt.figure()\n",
    "    plt.plot(x, y3)\n",
    "    plt.plot(x, y4)\n",
    "    fig = plt.figure()"
   ]
  },
  {
   "cell_type": "code",
   "execution_count": 5,
   "id": "7cd3213c-4556-4754-81af-76f366e23ce2",
   "metadata": {
    "tags": []
   },
   "outputs": [],
   "source": [
    "def generate_data(size=500):\n",
    "    print('Generating Data...')\n",
    "    dataArr = []\n",
    "    labelArr = []  \n",
    "    for iev in range(size):\n",
    "        x, y1, y2, y3, y4 = test_data_gen(fakeKernel=False)\n",
    "        \n",
    "        # real data\n",
    "        x = y2\n",
    "        dataArr.append(x)\n",
    "        labelArr.append(1)\n",
    "        \n",
    "        # fake data: random\n",
    "        x = y4\n",
    "        dataArr.append(x)\n",
    "        labelArr.append(0)\n",
    "        \n",
    "        x, y1, y2, y3, y4 = test_data_gen(fakeKernel=True)\n",
    "        \n",
    "        # real data\n",
    "        x = y2\n",
    "        dataArr.append(x)\n",
    "        labelArr.append(1)\n",
    "        \n",
    "        # fake data: FakeKernel\n",
    "        x = y4\n",
    "        dataArr.append(x)\n",
    "        labelArr.append(0)\n",
    "        \n",
    "    print(\"done\")\n",
    "    return(np.array(dataArr), np.array(labelArr))"
   ]
  },
  {
   "cell_type": "code",
   "execution_count": 6,
   "id": "9ab3c93a-0c4f-4d8e-8cee-3ee40bc65fa6",
   "metadata": {},
   "outputs": [],
   "source": [
    "def define_descriminator(dimShape):\n",
    "    #Sequential model\n",
    "    model = Sequential([\n",
    "        #Acurracy is achieved much faster with 4 input nodes.\n",
    "        layers.Dense(units=4, activation='relu', input_shape=dimShape),\n",
    "        layers.Dense(units=1, activation='sigmoid')\n",
    "    ])\n",
    "    model.summary()\n",
    "\n",
    "    model.compile(loss='binary_crossentropy',\n",
    "                  optimizer=Adam(learning_rate=0.0001),\n",
    "                  metrics=['accuracy'])\n",
    "    return(model)"
   ]
  },
  {
   "cell_type": "code",
   "execution_count": 7,
   "id": "72c91e65-f8ce-4385-8e70-41662639495b",
   "metadata": {},
   "outputs": [],
   "source": [
    "def define_generator():\n",
    "    model = Sequential([\n",
    "        #First set of layers will be low resolution noise.\n",
    "        layers.Dense(32*200, input_shape=(100,)),\n",
    "        layers.BatchNormalization(),\n",
    "        layers.LeakyReLU(),\n",
    "        \n",
    "        #Now we will reshape and upsample to get the final output dimension which should be (128,)\n",
    "        layers.Reshape((32,200)),\n",
    "        \n",
    "        layers.Conv1DTranspose(64, 1, strides=2),\n",
    "        layers.BatchNormalization(),\n",
    "        layers.LeakyReLU(),\n",
    "        \n",
    "        layers.Conv1DTranspose(128, 1, strides=2),\n",
    "        layers.BatchNormalization(),\n",
    "        layers.LeakyReLU(),\n",
    "        \n",
    "        layers.Conv1DTranspose(1,1, activation=\"tanh\")\n",
    "    ])\n",
    "    model.summary()\n",
    "\n",
    "    model.compile(loss='binary_crossentropy',\n",
    "                  optimizer=Adam(learning_rate=0.0001),\n",
    "                  metrics=['accuracy'])\n",
    "    return(model)"
   ]
  },
  {
   "cell_type": "code",
   "execution_count": 8,
   "id": "9e3a4eee-f9fe-46ae-9907-c678add6156c",
   "metadata": {},
   "outputs": [],
   "source": [
    "def train_descriminator_only(data_size=1000, epochs = 200, save_model=False):\n",
    "    data, label = generate_data(data_size)\n",
    "    model = define_descriminator(data.shape[1:])\n",
    "    \n",
    "    #Fit will actually train the model.\n",
    "    # X: input of shape (141,2)\n",
    "    # Y: target catagorization, either 1 or 0. Shape (141,2) for consistancy with X\n",
    "    model.fit(\n",
    "        x=np.array(data),\n",
    "        y=np.array(label),\n",
    "        epochs=epochs,\n",
    "        shuffle=True,\n",
    "        validation_split=0.1,\n",
    "        use_multiprocessing=True,\n",
    "        workers=25,\n",
    "        verbose=0\n",
    "    )\n",
    "    \n",
    "    # generate testing data\n",
    "    test_data_size = 1000\n",
    "    testData, testLabels = generate_data(1000)\n",
    "    predictions = model.predict(testData)\n",
    "    fig = plt.figure()\n",
    "    #We multiply by 4 here because for each dataset, there are 4 points of data.\n",
    "    plt.hist(abs(predictions.reshape(test_data_size*4) - testLabels), 50);\n",
    "    plt.xlim([-0.05, 1.05])\n",
    "    \n",
    "    if save_model:\n",
    "        model.save_weights('./model/checkpoint')"
   ]
  },
  {
   "cell_type": "code",
   "execution_count": 10,
   "id": "a8cdfac2-eeec-4fb2-b1b7-0719e6afa362",
   "metadata": {},
   "outputs": [],
   "source": [
    "#train_descriminator_only(save_model=True)"
   ]
  },
  {
   "cell_type": "code",
   "execution_count": null,
   "id": "06e5607d-80de-42c6-b5e9-9be86f0cb5c9",
   "metadata": {},
   "outputs": [],
   "source": []
  }
 ],
 "metadata": {
  "kernelspec": {
   "display_name": "Python 3 (ipykernel)",
   "language": "python",
   "name": "python3"
  },
  "language_info": {
   "codemirror_mode": {
    "name": "ipython",
    "version": 3
   },
   "file_extension": ".py",
   "mimetype": "text/x-python",
   "name": "python",
   "nbconvert_exporter": "python",
   "pygments_lexer": "ipython3",
   "version": "3.9.9"
  }
 },
 "nbformat": 4,
 "nbformat_minor": 5
}
