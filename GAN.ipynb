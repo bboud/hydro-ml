{
 "cells": [
  {
   "cell_type": "code",
   "execution_count": null,
   "id": "5c1aca15-4153-4f59-ada0-0f2ff904ba16",
   "metadata": {
    "tags": []
   },
   "outputs": [],
   "source": [
    "%matplotlib inline\n",
    "\n",
    "#from tensorflow import keras\n",
    "from tensorflow.keras.models import Sequential\n",
    "from tensorflow.keras import layers\n",
    "from tensorflow.keras.optimizers import Adam\n",
    "from tensorflow.keras.metrics import binary_crossentropy\n",
    "from tensorflow.keras import Input\n",
    "from tensorflow.keras.losses import BinaryCrossentropy\n",
    "from tensorflow.keras.optimizers import Adam\n",
    "\n",
    "from IPython import display\n",
    "\n",
    "import tensorflow as tf\n",
    "import numpy as np\n",
    "import matplotlib.pyplot as plt"
   ]
  },
  {
   "cell_type": "markdown",
   "id": "40753e2f-6617-499c-b73b-af3ff392a224",
   "metadata": {},
   "source": [
    "# Data Gen"
   ]
  },
  {
   "cell_type": "code",
   "execution_count": null,
   "id": "172d6424-e03e-447a-8ec8-d96d2f6d9b07",
   "metadata": {
    "tags": []
   },
   "outputs": [],
   "source": [
    "def Kernel(x, x0):\n",
    "    sigma = 0.8\n",
    "    protonFraction = 0.4\n",
    "    norm = protonFraction/(np.sqrt(2.*np.pi)*sigma)\n",
    "    return(norm*np.exp(-(x - x0)**2./(2.*sigma**2.)))\n",
    "\n",
    "def FakeKernel(x, x0):\n",
    "    sigma = 0.4 #Just a slight nudge\n",
    "    protonFraction = 0.4\n",
    "    norm = protonFraction/(np.sqrt(2.*np.pi)*sigma)\n",
    "    return(norm*np.exp(-(x - x0)**2./(2.*sigma**2.)))"
   ]
  },
  {
   "cell_type": "code",
   "execution_count": null,
   "id": "91484237-4dfc-4ed1-a62a-b0a1702b20dd",
   "metadata": {
    "tags": []
   },
   "outputs": [],
   "source": [
    "def test_data_gen(fakeKernel=False):\n",
    "    A = 197\n",
    "    yBeam = 5.36\n",
    "    slope = 0.5\n",
    "    sigmaEtas = 0.2\n",
    "    \n",
    "    # generate input data\n",
    "    nBaryons = np.random.randint(0, 2*A)\n",
    "    randX = np.random.uniform(0, 1, size=nBaryons)\n",
    "    etasBaryon = 1./slope*np.arcsinh((2.*randX - 1)*np.sinh(slope*yBeam))\n",
    "    etasArr = np.linspace(-6.4, 6.4, 128)\n",
    "    dNBdetas = np.zeros(len(etasArr))\n",
    "    norm = 1./(np.sqrt(2.*np.pi)*sigmaEtas)\n",
    "    for iB in etasBaryon:\n",
    "        dNBdetas += norm*np.exp(-(etasArr - iB)**2./(2.*sigmaEtas**2.))\n",
    "    \n",
    "    # generate test data with convolution with a kernel\n",
    "    dNpdy = np.zeros(len(etasArr))\n",
    "    detas = etasArr[1] - etasArr[0]\n",
    "    for i in range(len(etasArr)):\n",
    "        dNpdy[i] = sum(Kernel(etasArr, etasArr[i])*dNBdetas)*detas\n",
    "    \n",
    "    if fakeKernel:\n",
    "        #generate test data with convolution with a fake kernel\n",
    "        dNBdetasFake = np.random.uniform(0.0, dNBdetas.max(), size=len(etasArr))\n",
    "        dNpdyFake = np.zeros(len(etasArr))\n",
    "        detas = etasArr[1] - etasArr[0]\n",
    "        for i in range(len(etasArr)):\n",
    "            dNpdyFake[i] = sum(FakeKernel(etasArr, etasArr[i])*dNBdetas)*detas\n",
    "            \n",
    "        return(etasArr, dNBdetas, dNpdy, dNBdetas, dNpdyFake)\n",
    "    else:\n",
    "        # generate fake data with random noise\n",
    "        dNBdetasFake = np.random.uniform(0.0, dNBdetas.max(), size=len(etasArr))\n",
    "        dNpdyFake = np.random.uniform(0.0, dNpdy.max(), size=len(etasArr))\n",
    "\n",
    "        return(etasArr, dNBdetas, dNpdy, dNBdetasFake, dNpdyFake)"
   ]
  },
  {
   "cell_type": "code",
   "execution_count": null,
   "id": "0b039d5d-361c-4ba3-ad9f-8c303d2d2c94",
   "metadata": {
    "tags": []
   },
   "outputs": [],
   "source": [
    "def show_test_data_graph():\n",
    "    x, y1, y2, y3, y4 = test_data_gen(fakeKernel=True)\n",
    "    plt.plot(x, y1)\n",
    "    plt.plot(x, y2)\n",
    "    fig = plt.figure()\n",
    "    plt.plot(x, y3)\n",
    "    plt.plot(x, y4)\n",
    "    fig = plt.figure()\n",
    "    \n",
    "    x, y1, y2, y3, y4 = test_data_gen(fakeKernel=False)\n",
    "    plt.plot(x, y1)\n",
    "    plt.plot(x, y2)\n",
    "    fig = plt.figure()\n",
    "    plt.plot(x, y3)\n",
    "    plt.plot(x, y4)\n",
    "    fig = plt.figure()"
   ]
  },
  {
   "cell_type": "code",
   "execution_count": null,
   "id": "a63ed013-d30f-431d-8b86-293b4a4d91d1",
   "metadata": {},
   "outputs": [],
   "source": [
    "#show_test_data_graph()"
   ]
  },
  {
   "cell_type": "code",
   "execution_count": null,
   "id": "7cd3213c-4556-4754-81af-76f366e23ce2",
   "metadata": {
    "tags": []
   },
   "outputs": [],
   "source": [
    "def generate_data(size=500):\n",
    "    print('Generating Data...')\n",
    "    dataArr = []\n",
    "    labelArr = []  \n",
    "    for iev in range(size):\n",
    "        x, y1, y2, y3, y4 = test_data_gen(fakeKernel=False)\n",
    "        \n",
    "        # real data\n",
    "        x = y2\n",
    "        dataArr.append(x)\n",
    "        labelArr.append(1)\n",
    "        \n",
    "        # fake data: random\n",
    "        x = y4\n",
    "        dataArr.append(x)\n",
    "        labelArr.append(0)\n",
    "        \n",
    "        x, y1, y2, y3, y4 = test_data_gen(fakeKernel=True)\n",
    "        \n",
    "        # real data\n",
    "        x = y2\n",
    "        dataArr.append(x)\n",
    "        labelArr.append(1)\n",
    "        \n",
    "        # fake data: FakeKernel\n",
    "        x = y4\n",
    "        dataArr.append(x)\n",
    "        labelArr.append(0)\n",
    "        \n",
    "    print(\"done\")\n",
    "    return(np.array(dataArr), np.array(labelArr))"
   ]
  },
  {
   "cell_type": "markdown",
   "id": "6525c7b6-0ca7-4668-ae8a-dcc04c50a18d",
   "metadata": {},
   "source": [
    "# Generator and Discriminator Models"
   ]
  },
  {
   "cell_type": "code",
   "execution_count": null,
   "id": "9ab3c93a-0c4f-4d8e-8cee-3ee40bc65fa6",
   "metadata": {},
   "outputs": [],
   "source": [
    "def define_discriminator(dimShape=(128,)):\n",
    "    #Sequential model\n",
    "    model = Sequential([\n",
    "        #Acurracy is achieved much faster with 4 input nodes.\n",
    "        layers.Dense(units=4, activation='relu', input_shape=dimShape),\n",
    "        layers.Dense(units=1, activation='sigmoid')\n",
    "    ])\n",
    "    model.summary()\n",
    "\n",
    "    model.compile(loss='binary_crossentropy',\n",
    "                  optimizer=Adam(learning_rate=0.0001),\n",
    "                  metrics=['accuracy'])\n",
    "    return(model)"
   ]
  },
  {
   "cell_type": "code",
   "execution_count": null,
   "id": "72c91e65-f8ce-4385-8e70-41662639495b",
   "metadata": {},
   "outputs": [],
   "source": [
    "def define_generator():\n",
    "    model = Sequential([\n",
    "        #First set of layers will be low resolution noise.\n",
    "        layers.Dense(32*200, input_shape=(100,)),\n",
    "        layers.BatchNormalization(),\n",
    "        layers.LeakyReLU(),\n",
    "        \n",
    "        #Now we will reshape and upsample to get the final output dimension which should be (128,)\n",
    "        layers.Reshape((32,200)),\n",
    "        \n",
    "        layers.Conv1DTranspose(64, 1, strides=2),\n",
    "        layers.BatchNormalization(),\n",
    "        layers.LeakyReLU(),\n",
    "        \n",
    "        layers.Conv1DTranspose(128, 1, strides=2),\n",
    "        layers.BatchNormalization(),\n",
    "        layers.LeakyReLU(),\n",
    "        \n",
    "        layers.Conv1DTranspose(1,1, activation=\"tanh\")\n",
    "    ])\n",
    "    model.summary()\n",
    "\n",
    "    model.compile(loss='binary_crossentropy',\n",
    "                  optimizer=Adam(learning_rate=0.0001),\n",
    "                  metrics=['accuracy'])\n",
    "    return(model)"
   ]
  },
  {
   "cell_type": "markdown",
   "id": "e372512e-d094-473f-aa91-c09a8475b425",
   "metadata": {},
   "source": [
    "# Pre-train the Disciminator"
   ]
  },
  {
   "cell_type": "code",
   "execution_count": null,
   "id": "9e3a4eee-f9fe-46ae-9907-c678add6156c",
   "metadata": {},
   "outputs": [],
   "source": [
    "def train_discriminator_only(data_size=1000, epochs = 200, save_model=False):\n",
    "    data, label = generate_data(data_size)\n",
    "    model = define_discriminator(data.shape[1:])\n",
    "    \n",
    "    #Fit will actually train the model.\n",
    "    # X: input of shape (141,2)\n",
    "    # Y: target catagorization, either 1 or 0. Shape (141,2) for consistancy with X\n",
    "    model.fit(\n",
    "        x=np.array(data),\n",
    "        y=np.array(label),\n",
    "        epochs=epochs,\n",
    "        shuffle=True,\n",
    "        validation_split=0.1,\n",
    "        use_multiprocessing=True,\n",
    "        workers=25,\n",
    "        verbose=0\n",
    "    )\n",
    "    \n",
    "    # generate testing data\n",
    "    test_data_size = 1000\n",
    "    testData, testLabels = generate_data(test_data_size)\n",
    "    predictions = model.predict(testData)\n",
    "    fig = plt.figure()\n",
    "    #We multiply by 4 here because for each dataset, there are 4 points of data.\n",
    "    plt.hist(abs(predictions.reshape(test_data_size*4) - testLabels), 50);\n",
    "    plt.xlim([-0.05, 1.05])\n",
    "    \n",
    "    if save_model:\n",
    "        model.save_weights('./model/checkpoint')"
   ]
  },
  {
   "cell_type": "markdown",
   "id": "8bbb1d78-c477-47a3-b53f-2f6bf85ec485",
   "metadata": {},
   "source": [
    "# Defining the Loss Functions"
   ]
  },
  {
   "cell_type": "code",
   "execution_count": null,
   "id": "490935ad-434a-4ecf-905d-1413d8a72687",
   "metadata": {},
   "outputs": [],
   "source": [
    "G = define_generator()\n",
    "D = define_discriminator()\n",
    "D.load_weights(\"model/checkpoint\")"
   ]
  },
  {
   "cell_type": "code",
   "execution_count": null,
   "id": "fd59d878-96cc-4c25-90b6-5d54b48fa1b5",
   "metadata": {},
   "outputs": [],
   "source": [
    "cross_entropy = BinaryCrossentropy()"
   ]
  },
  {
   "cell_type": "code",
   "execution_count": null,
   "id": "e21a7267-d055-4ae2-8545-924790e355ac",
   "metadata": {},
   "outputs": [],
   "source": [
    "def discriminator_loss(real_output, fake_output):\n",
    "    real_loss = cross_entropy(tf.ones_like(real_output), real_output)\n",
    "    fake_loss = cross_entropy(tf.zeros_like(fake_output), fake_output)\n",
    "    \n",
    "    return real_loss + fake_loss"
   ]
  },
  {
   "cell_type": "code",
   "execution_count": null,
   "id": "681eb44c-ac58-4003-ac8e-e837d7b6eadc",
   "metadata": {},
   "outputs": [],
   "source": [
    "def generator_loss(fake_output):\n",
    "    return cross_entropy(tf.ones_like(fake_output), fake_output)"
   ]
  },
  {
   "cell_type": "code",
   "execution_count": null,
   "id": "c876ba2a-a8e4-4933-b949-282112009e04",
   "metadata": {},
   "outputs": [],
   "source": [
    "generator_optimizer = Adam(learning_rate = 0.0001)\n",
    "discriminator_optimizer = Adam(learning_rate = 0.0001)"
   ]
  },
  {
   "cell_type": "code",
   "execution_count": null,
   "id": "eb8db0d8-edfe-4836-a170-1cb4360111b8",
   "metadata": {},
   "outputs": [],
   "source": [
    "@tf.function\n",
    "def train_step(data):\n",
    "    noise = tf.random.normal([1, 100])\n",
    "    generated_data = G(noise, training=True)\n",
    "    \n",
    "    with tf.GradientTape() as gen_tape, tf.GradientTape() as disc_tape:\n",
    "        real_output = D(data, training=True)\n",
    "        fake_output = D(generated_data, training=True)\n",
    "\n",
    "        gen_loss = generator_loss(fake_output)\n",
    "        disc_loss = discriminator_loss(real_output, fake_output)\n",
    "        \n",
    "    print(G.trainable_variables)\n",
    "    gradients_of_generator = gen_tape.gradient(gen_loss, G.trainable_variables)\n",
    "    gradients_of_discriminator = disc_tape.gradient(disc_loss, D.trainable_variables)\n",
    "    print(gradients_of_generator)\n",
    "    generator_optimizer.apply_gradients(zip(gradients_of_generator, G.trainable_variables))\n",
    "    discriminator_optimizer.apply_gradients(zip(gradients_of_discriminator, D.trainable_variables))"
   ]
  },
  {
   "cell_type": "code",
   "execution_count": null,
   "id": "d629f19c-5fad-4724-b9dc-f0d427874f56",
   "metadata": {},
   "outputs": [],
   "source": [
    "def train(epochs):\n",
    "    for epoch in range(epochs):\n",
    "        print(\"Epoch: \" + str(epoch+1))\n",
    "        data, _ = generate_data()\n",
    "        train_step(data)"
   ]
  },
  {
   "cell_type": "code",
   "execution_count": null,
   "id": "68b1b608-144d-4de3-bf94-fa6a4c84700f",
   "metadata": {},
   "outputs": [],
   "source": [
    "train_discriminator_only()"
   ]
  },
  {
   "cell_type": "code",
   "execution_count": null,
   "id": "bb9f33be-c520-427a-9f5c-955496e7940a",
   "metadata": {},
   "outputs": [],
   "source": [
    "train(10)"
   ]
  },
  {
   "cell_type": "code",
   "execution_count": null,
   "id": "68b6e661-701a-4efd-a96b-2d4fb8ede39b",
   "metadata": {},
   "outputs": [],
   "source": []
  }
 ],
 "metadata": {
  "kernelspec": {
   "display_name": "Python 3 (ipykernel)",
   "language": "python",
   "name": "python3"
  },
  "language_info": {
   "codemirror_mode": {
    "name": "ipython",
    "version": 3
   },
   "file_extension": ".py",
   "mimetype": "text/x-python",
   "name": "python",
   "nbconvert_exporter": "python",
   "pygments_lexer": "ipython3",
   "version": "3.9.9"
  }
 },
 "nbformat": 4,
 "nbformat_minor": 5
}
