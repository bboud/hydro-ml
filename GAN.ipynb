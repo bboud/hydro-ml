{
 "cells": [
  {
   "cell_type": "code",
   "execution_count": null,
   "id": "5c1aca15-4153-4f59-ada0-0f2ff904ba16",
   "metadata": {
    "pycharm": {
     "name": "#%%\n"
    },
    "tags": []
   },
   "outputs": [],
   "source": [
    "%matplotlib inline\n",
    "\n",
    "from tensorflow.keras.models import Sequential\n",
    "from tensorflow.keras import layers\n",
    "from tensorflow.keras.optimizers import Adam\n",
    "from tensorflow.keras import Input\n",
    "from tensorflow.keras.losses import BinaryCrossentropy\n",
    "from tensorflow.keras.optimizers import SGD\n",
    "\n",
    "#JIT for the data generation.\n",
    "from numba import jit\n",
    "\n",
    "from IPython import display\n",
    "\n",
    "import tensorflow as tf\n",
    "import numpy as np\n",
    "import matplotlib.pyplot as plt"
   ]
  },
  {
   "cell_type": "markdown",
   "id": "40753e2f-6617-499c-b73b-af3ff392a224",
   "metadata": {
    "pycharm": {
     "name": "#%% md\n"
    }
   },
   "source": [
    "# Data Gen"
   ]
  },
  {
   "cell_type": "code",
   "execution_count": null,
   "id": "172d6424-e03e-447a-8ec8-d96d2f6d9b07",
   "metadata": {
    "pycharm": {
     "name": "#%%\n"
    },
    "tags": []
   },
   "outputs": [],
   "source": [
    "@jit\n",
    "def Kernel(x, x0):\n",
    "    sigma = 0.8\n",
    "    protonFraction = 0.4\n",
    "    norm = protonFraction/(np.sqrt(2.*np.pi)*sigma)\n",
    "    return(norm*np.exp(-(x - x0)**2./(2.*sigma**2.)))\n",
    "\n",
    "@jit\n",
    "def FakeKernel(x, x0, s):\n",
    "    sigma = s\n",
    "    protonFraction = 0.4\n",
    "    norm = protonFraction/(np.sqrt(2.*np.pi)*sigma)\n",
    "    return(norm*np.exp(-(x - x0)**2./(2.*sigma**2.)))"
   ]
  },
  {
   "cell_type": "code",
   "execution_count": null,
   "id": "91484237-4dfc-4ed1-a62a-b0a1702b20dd",
   "metadata": {
    "pycharm": {
     "name": "#%%\n"
    },
    "tags": []
   },
   "outputs": [],
   "source": [
    "@jit\n",
    "def test_data_gen(fakeKernel=False, sigma=0.4):\n",
    "    A = 197\n",
    "    yBeam = 5.36\n",
    "    slope = 0.5\n",
    "    sigmaEtas = 0.2\n",
    "    \n",
    "    # generate input data\n",
    "    nBaryons = np.random.randint(0, 2*A)\n",
    "    randX = np.random.uniform(0, 1, size=nBaryons)\n",
    "    etasBaryon = 1./slope*np.arcsinh((2.*randX - 1)*np.sinh(slope*yBeam))\n",
    "    etasArr = np.linspace(-6.4, 6.4, 128)\n",
    "    dNBdetas = np.zeros(len(etasArr))\n",
    "    norm = 1./(np.sqrt(2.*np.pi)*sigmaEtas)\n",
    "    for iB in etasBaryon:\n",
    "        dNBdetas += norm*np.exp(-(etasArr - iB)**2./(2.*sigmaEtas**2.))\n",
    "    \n",
    "    # generate test data with convolution with a kernel\n",
    "    dNpdy = np.zeros(len(etasArr))\n",
    "    detas = etasArr[1] - etasArr[0]\n",
    "    for i in range(len(etasArr)):\n",
    "        dNpdy[i] = sum(Kernel(etasArr, etasArr[i])*dNBdetas)*detas\n",
    "    \n",
    "    if fakeKernel:\n",
    "        dNBdetasFake = np.random.uniform(0.0, dNBdetas.max(), size=len(etasArr))\n",
    "        dNpdyFake = np.zeros(len(etasArr))\n",
    "        detas = etasArr[1] - etasArr[0]\n",
    "        for i in range(len(etasArr)):\n",
    "            dNpdyFake[i] = sum(FakeKernel(etasArr, etasArr[i], sigma)*dNBdetas)*detas\n",
    "            \n",
    "        return(etasArr, dNBdetas, dNpdy, dNBdetas, dNpdyFake)\n",
    "    else:\n",
    "        # generate fake data with random noise\n",
    "        dNBdetasFake = np.random.uniform(0.0, dNBdetas.max(), size=len(etasArr))\n",
    "        dNpdyFake = np.random.uniform(0.0, dNpdy.max(), size=len(etasArr))\n",
    "\n",
    "        return(etasArr, dNBdetas, dNpdy, dNBdetasFake, dNpdyFake)"
   ]
  },
  {
   "cell_type": "code",
   "execution_count": null,
   "id": "7cd3213c-4556-4754-81af-76f366e23ce2",
   "metadata": {
    "pycharm": {
     "name": "#%%\n"
    },
    "tags": []
   },
   "outputs": [],
   "source": [
    "#Depth defines the number of blocks of data that will be returned per \"iev\".\n",
    "DEPTH = 6\n",
    "\n",
    "def generate_data(size=128):\n",
    "    #Tensor that is returned\n",
    "    dataArr = []\n",
    "    labelArr = []\n",
    "    \n",
    "    for iev in range( int(size/DEPTH) ):\n",
    "        x, y1, y2, y3, y4 = test_data_gen(fakeKernel=False)\n",
    "        \n",
    "        # real data - Block\n",
    "        x = y2\n",
    "        dataArr.append(x)\n",
    "        labelArr.append(1)\n",
    "        \n",
    "        # fake data: random - Block\n",
    "        x = y4\n",
    "        dataArr.append(x)\n",
    "        labelArr.append(0)\n",
    "        \n",
    "        x, y1, y2, y3, y4 = test_data_gen(fakeKernel=True, sigma=0.1)\n",
    "        \n",
    "        # real data - Block\n",
    "        x = y2\n",
    "        dataArr.append(x)\n",
    "        labelArr.append(1)\n",
    "        \n",
    "        # fake data: fake kernel - Block\n",
    "        x = y4\n",
    "        dataArr.append(x)\n",
    "        labelArr.append(0)\n",
    "        \n",
    "        x, y1, y2, y3, y4 = test_data_gen(fakeKernel=True, sigma=3)\n",
    "        \n",
    "        # real data - Block\n",
    "        x = y2\n",
    "        dataArr.append(x)\n",
    "        labelArr.append(1)\n",
    "        \n",
    "        # fake data: fake kernel - Block\n",
    "        x = y4\n",
    "        dataArr.append(x)\n",
    "        labelArr.append(0)\n",
    "                \n",
    "    return(np.array(dataArr, dtype=np.float32), np.array(labelArr))"
   ]
  },
  {
   "cell_type": "markdown",
   "id": "6525c7b6-0ca7-4668-ae8a-dcc04c50a18d",
   "metadata": {
    "pycharm": {
     "name": "#%% md\n"
    }
   },
   "source": [
    "# Generator and Discriminator Models"
   ]
  },
  {
   "cell_type": "code",
   "execution_count": null,
   "id": "a20d8aa4-a777-42b1-b6a1-6155306cfec1",
   "metadata": {},
   "outputs": [],
   "source": [
    "#Global Constants\n",
    "\n",
    "#Discriminator\n",
    "DFILTER = 16\n",
    "DKERNEL = \"he_uniform\"\n",
    "DROPOUT_RATE = 0.4\n",
    "\n",
    "#Generator\n",
    "BATCH_SIZE = 768\n",
    "LATENT_DIM = 8\n",
    "KERNEL_SIZE = 3\n",
    "KERNEL = \"ones\"\n",
    "RELU_ALPHA = 0.2\n",
    "\n",
    "#Feature maps\n",
    "FILTER = 128\n",
    "\n",
    "#Optimizer Parameters\n",
    "BETA_1 = 0.9\n",
    "BETA_2 = 0.999\n",
    "EPSILON = 1e-07"
   ]
  },
  {
   "cell_type": "code",
   "execution_count": null,
   "id": "9ab3c93a-0c4f-4d8e-8cee-3ee40bc65fa6",
   "metadata": {
    "pycharm": {
     "name": "#%%\n"
    }
   },
   "outputs": [],
   "source": [
    "def define_discriminator(dimShape=(128,1)):\n",
    "    model = Sequential([\n",
    "        layers.Input(shape=dimShape),\n",
    "        \n",
    "        layers.Conv1D(DFILTER, 4, strides = 2, activation=\"LeakyReLU\", padding=\"same\", kernel_initializer=DKERNEL),\n",
    "        layers.Dropout(DROPOUT_RATE),\n",
    "        layers.Conv1D(DFILTER, 4, strides = 2, activation=\"LeakyReLU\", padding=\"same\", kernel_initializer=DKERNEL),\n",
    "        layers.Dropout(DROPOUT_RATE),\n",
    "        \n",
    "        layers.Flatten(),\n",
    "        layers.Dense(1, activation=\"sigmoid\")\n",
    "    ])\n",
    "    model.summary()\n",
    "\n",
    "    return(model)"
   ]
  },
  {
   "cell_type": "code",
   "execution_count": null,
   "id": "72c91e65-f8ce-4385-8e70-41662639495b",
   "metadata": {
    "pycharm": {
     "name": "#%%\n"
    }
   },
   "outputs": [],
   "source": [
    "def define_generator():\n",
    "\n",
    "    model = Sequential([\n",
    "        layers.Dense(LATENT_DIM * FILTER, input_dim=LATENT_DIM),\n",
    "        layers.LeakyReLU(RELU_ALPHA),\n",
    "        \n",
    "        layers.BatchNormalization(),\n",
    "        layers.Reshape((LATENT_DIM, FILTER)),\n",
    "        \n",
    "        layers.Conv1DTranspose(FILTER, KERNEL_SIZE, strides=2, padding=\"same\", kernel_initializer=KERNEL),\n",
    "        layers.BatchNormalization(),\n",
    "        layers.LeakyReLU(RELU_ALPHA),\n",
    "\n",
    "        layers.Conv1DTranspose(FILTER, KERNEL_SIZE, strides=2, padding=\"same\", kernel_initializer=KERNEL),\n",
    "        layers.BatchNormalization(),\n",
    "        layers.LeakyReLU(RELU_ALPHA),\n",
    "        \n",
    "        layers.Conv1DTranspose(FILTER, KERNEL_SIZE, strides=2, padding=\"same\", kernel_initializer=KERNEL),\n",
    "        layers.BatchNormalization(),\n",
    "        layers.LeakyReLU(RELU_ALPHA),\n",
    "\n",
    "        layers.Conv1DTranspose(FILTER, KERNEL_SIZE, strides=2, padding=\"same\", kernel_initializer=KERNEL),\n",
    "        layers.BatchNormalization(),\n",
    "        layers.LeakyReLU(RELU_ALPHA),\n",
    "        \n",
    "        layers.Conv1D(1, 1, padding=\"same\", activation=\"sigmoid\")\n",
    "    ])\n",
    "\n",
    "    model.summary()\n",
    "\n",
    "    return(model)"
   ]
  },
  {
   "cell_type": "code",
   "execution_count": null,
   "id": "490935ad-434a-4ecf-905d-1413d8a72687",
   "metadata": {
    "pycharm": {
     "name": "#%%\n"
    }
   },
   "outputs": [],
   "source": [
    "D = define_discriminator()\n",
    "G = define_generator()"
   ]
  },
  {
   "cell_type": "markdown",
   "id": "801b128d-7d7b-4579-915a-1d1de0d2d2c6",
   "metadata": {},
   "source": [
    "# Training Functions"
   ]
  },
  {
   "cell_type": "code",
   "execution_count": null,
   "id": "9e3a4eee-f9fe-46ae-9907-c678add6156c",
   "metadata": {
    "jupyter": {
     "source_hidden": true
    },
    "pycharm": {
     "name": "#%%\n"
    },
    "tags": []
   },
   "outputs": [],
   "source": [
    "def train_discriminator_only(data_size=1024, epochs = 200, save_model=False):\n",
    "    data, label = generate_data(data_size)\n",
    "    \n",
    "    #Fit will actually train the model.\n",
    "    # X: input of shape (141,2)\n",
    "    # Y: target catagorization, either 1 or 0. Shape (141,2) for consistancy with X\n",
    "    D.fit(\n",
    "        x=np.array(data),\n",
    "        y=np.array(label),\n",
    "        epochs=epochs,\n",
    "        shuffle=True,\n",
    "        validation_split=0.1,\n",
    "        use_multiprocessing=True,\n",
    "        workers=25,\n",
    "        verbose=0\n",
    "    )\n",
    "    \n",
    "    # generate testing data\n",
    "    test_data_size = data_size\n",
    "    testData, testLabels = generate_data(test_data_size)\n",
    "    predictions = D.predict(testData)\n",
    "    fig = plt.figure()\n",
    "    #We multiply by 4 here because for each dataset, there are 4 points of data.\n",
    "    plt.hist(abs(predictions.reshape(test_data_size*2) - testLabels), 50)\n",
    "    plt.xlim([-0.05, 1.05])\n",
    "    \n",
    "    if save_model:\n",
    "        D.save_weights('./model/checkpoint')"
   ]
  },
  {
   "cell_type": "code",
   "execution_count": null,
   "id": "fd59d878-96cc-4c25-90b6-5d54b48fa1b5",
   "metadata": {
    "pycharm": {
     "name": "#%%\n"
    }
   },
   "outputs": [],
   "source": [
    "d_cross_entropy = BinaryCrossentropy()\n",
    "g_cross_entropy = BinaryCrossentropy()\n",
    "\n",
    "generator_optimizer = Adam(learning_rate = 0.0001, beta_1=BETA_1, beta_2=BETA_2, epsilon=EPSILON)\n",
    "discriminator_optimizer = Adam(learning_rate = 0.00001, beta_1=BETA_1, beta_2=BETA_2, epsilon=EPSILON)"
   ]
  },
  {
   "cell_type": "code",
   "execution_count": null,
   "id": "eb8db0d8-edfe-4836-a170-1cb4360111b8",
   "metadata": {
    "pycharm": {
     "name": "#%%\n"
    }
   },
   "outputs": [],
   "source": [
    "@tf.function\n",
    "def train_step(data):\n",
    "    fake_data = G(tf.random.normal(shape=(BATCH_SIZE, LATENT_DIM)), training=False)\n",
    "    \n",
    "    with tf.GradientTape() as disc_tape:\n",
    "        real = D(data, training=True)\n",
    "        fake = D(fake_data, training=True)\n",
    "        yhat_real_fake = tf.concat([real, fake], axis=0)\n",
    "        \n",
    "        y_real_fake = tf.concat([tf.zeros_like(real), tf.ones_like(fake)], axis=0)\n",
    "        \n",
    "        noise_real = 0.15*tf.random.uniform(tf.shape(real))\n",
    "        noise_fake = -0.15*tf.random.uniform(tf.shape(fake))\n",
    "        y_real_fake += tf.concat([noise_real, noise_fake], axis=0)\n",
    "        \n",
    "        d_loss = d_cross_entropy(y_real_fake, yhat_real_fake)\n",
    "    \n",
    "    gradients_of_discriminator = disc_tape.gradient(d_loss, D.trainable_variables)\n",
    "    discriminator_optimizer.apply_gradients(zip(gradients_of_discriminator, D.trainable_variables))\n",
    "    \n",
    "    with tf.GradientTape() as gen_tape:\n",
    "        g_data = G(tf.random.normal(shape=(BATCH_SIZE, LATENT_DIM)), training=True)\n",
    "        d_labels = D(g_data, training=False)\n",
    "        g_loss = g_cross_entropy(tf.zeros_like(d_labels) , d_labels)\n",
    "    \n",
    "    gradients_of_generator = gen_tape.gradient(g_loss, G.trainable_variables)\n",
    "    generator_optimizer.apply_gradients(zip(gradients_of_generator, G.trainable_variables))\n",
    "    \n",
    "    return g_loss, d_loss"
   ]
  },
  {
   "cell_type": "code",
   "execution_count": null,
   "id": "d629f19c-5fad-4724-b9dc-f0d427874f56",
   "metadata": {
    "pycharm": {
     "name": "#%%\n"
    }
   },
   "outputs": [],
   "source": [
    "def train(epochs):\n",
    "    total_gen_loss = []\n",
    "    total_disc_loss = []\n",
    "    \n",
    "    for epoch in range(epochs):\n",
    "        display.clear_output(wait=True)\n",
    "        print(\"Epoch: \" + str(epoch+1))\n",
    "        data, _ = generate_data(size=BATCH_SIZE)\n",
    "        gen_loss, disc_loss = train_step(data)\n",
    "        total_gen_loss.append(gen_loss)\n",
    "        total_disc_loss.append(disc_loss)\n",
    "    return np.array(total_gen_loss), np.array(total_disc_loss)"
   ]
  },
  {
   "cell_type": "markdown",
   "id": "511f5820-e7b9-44b1-a785-684169375a19",
   "metadata": {},
   "source": [
    "# Test and Train Zone"
   ]
  },
  {
   "cell_type": "code",
   "execution_count": null,
   "id": "bb9f33be-c520-427a-9f5c-955496e7940a",
   "metadata": {
    "pycharm": {
     "name": "#%%\n"
    },
    "tags": []
   },
   "outputs": [],
   "source": [
    "epochs = 2000\n",
    "total_gen_loss, total_disc_loss = train(epochs)"
   ]
  },
  {
   "cell_type": "code",
   "execution_count": null,
   "id": "68b6e661-701a-4efd-a96b-2d4fb8ede39b",
   "metadata": {
    "pycharm": {
     "name": "#%%\n"
    },
    "tags": []
   },
   "outputs": [],
   "source": [
    "print(total_disc_loss[len(total_disc_loss)-1])\n",
    "print(total_gen_loss[len(total_gen_loss)-1])\n",
    "\n",
    "plt.plot(np.arange(0, len(total_gen_loss), 1, int ), total_gen_loss)\n",
    "plt.plot(np.arange(0, len(total_disc_loss), 1, int ), total_disc_loss)\n",
    "fig=plt.Figure()"
   ]
  },
  {
   "cell_type": "code",
   "execution_count": null,
   "id": "1ee29585-948b-4ff2-8d75-3fad7f836478",
   "metadata": {
    "pycharm": {
     "name": "#%%\n"
    },
    "tags": []
   },
   "outputs": [],
   "source": [
    "samples = 3\n",
    "noise = tf.random.normal([samples, LATENT_DIM])\n",
    "generated_data = G.predict(noise)\n",
    "print(D.predict(generated_data))\n",
    "for i in range(samples):\n",
    "    plt.plot(np.arange(0, len(generated_data[i]), 1, int ), generated_data[i])\n",
    "    fig=plt.Figure()"
   ]
  },
  {
   "cell_type": "code",
   "execution_count": null,
   "id": "02ad1ae3-df18-444c-8130-65dc1d955fa0",
   "metadata": {},
   "outputs": [],
   "source": []
  },
  {
   "cell_type": "code",
   "execution_count": null,
   "id": "e76d0ba2-9715-4b92-b6af-1d1ad40f5ee2",
   "metadata": {},
   "outputs": [],
   "source": []
  }
 ],
 "metadata": {
  "kernelspec": {
   "display_name": "Python 3 (ipykernel)",
   "language": "python",
   "name": "python3"
  },
  "language_info": {
   "codemirror_mode": {
    "name": "ipython",
    "version": 3
   },
   "file_extension": ".py",
   "mimetype": "text/x-python",
   "name": "python",
   "nbconvert_exporter": "python",
   "pygments_lexer": "ipython3",
   "version": "3.9.9"
  }
 },
 "nbformat": 4,
 "nbformat_minor": 5
}
