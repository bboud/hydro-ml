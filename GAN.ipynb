{
 "cells": [
  {
   "cell_type": "code",
   "execution_count": null,
   "id": "5c1aca15-4153-4f59-ada0-0f2ff904ba16",
   "metadata": {
    "pycharm": {
     "name": "#%%\n"
    },
    "tags": []
   },
   "outputs": [],
   "source": [
    "%matplotlib inline\n",
    "\n",
    "from tensorflow.keras.models import Sequential, Model\n",
    "from tensorflow.keras import layers\n",
    "from tensorflow.keras.optimizers import Adam\n",
    "from tensorflow.keras import Input\n",
    "from tensorflow.keras.losses import MeanSquaredError, BinaryCrossentropy, MeanAbsoluteError\n",
    "from tensorflow.keras.optimizers import SGD\n",
    "\n",
    "#JIT for the data generation.\n",
    "from numba import jit\n",
    "\n",
    "from IPython import display\n",
    "\n",
    "import tensorflow as tf\n",
    "import numpy as np\n",
    "import matplotlib.pyplot as plt"
   ]
  },
  {
   "cell_type": "markdown",
   "id": "40753e2f-6617-499c-b73b-af3ff392a224",
   "metadata": {
    "pycharm": {
     "name": "#%% md\n"
    }
   },
   "source": [
    "# Data Gen"
   ]
  },
  {
   "cell_type": "code",
   "execution_count": null,
   "id": "172d6424-e03e-447a-8ec8-d96d2f6d9b07",
   "metadata": {
    "pycharm": {
     "name": "#%%\n"
    },
    "tags": []
   },
   "outputs": [],
   "source": [
    "@jit\n",
    "def Kernel(x, x0):\n",
    "    sigma = 0.8\n",
    "    protonFraction = 0.4\n",
    "    norm = protonFraction/(np.sqrt(2.*np.pi)*sigma)\n",
    "    return(norm*np.exp(-(x - x0)**2./(2.*sigma**2.)))"
   ]
  },
  {
   "cell_type": "code",
   "execution_count": null,
   "id": "91484237-4dfc-4ed1-a62a-b0a1702b20dd",
   "metadata": {
    "pycharm": {
     "name": "#%%\n"
    },
    "tags": []
   },
   "outputs": [],
   "source": [
    "@jit\n",
    "def test_data_gen(fakeKernel=False, sigma=0.4):\n",
    "    A = 197\n",
    "    yBeam = 5.36\n",
    "    slope = 0.5\n",
    "    sigmaEtas = 0.2\n",
    "    \n",
    "    # generate input data\n",
    "    nBaryons = np.random.randint(0, 2*A)\n",
    "    randX = np.random.uniform(0, 1, size=nBaryons)\n",
    "    etasBaryon = 1./slope*np.arcsinh((2.*randX - 1)*np.sinh(slope*yBeam))\n",
    "    etasArr = np.linspace(-6.4, 6.4, 128)\n",
    "    dNBdetas = np.zeros(len(etasArr))\n",
    "    norm = 1./(np.sqrt(2.*np.pi)*sigmaEtas)\n",
    "    for iB in etasBaryon:\n",
    "        dNBdetas += norm*np.exp(-(etasArr - iB)**2./(2.*sigmaEtas**2.))\n",
    "    \n",
    "    # generate test data with convolution with a kernel\n",
    "    dNpdy = np.zeros(len(etasArr))\n",
    "    detas = etasArr[1] - etasArr[0]\n",
    "    for i in range(len(etasArr)):\n",
    "        dNpdy[i] = sum(Kernel(etasArr, etasArr[i])*dNBdetas)*detas\n",
    "\n",
    "    return(etasArr, dNBdetas, dNpdy)"
   ]
  },
  {
   "cell_type": "code",
   "execution_count": null,
   "id": "7cd3213c-4556-4754-81af-76f366e23ce2",
   "metadata": {
    "pycharm": {
     "name": "#%%\n"
    },
    "tags": []
   },
   "outputs": [],
   "source": [
    "def generate_data(size=128):\n",
    "    baryon = []\n",
    "    proton = []\n",
    "    \n",
    "    for iev in range( size ):\n",
    "        x, y1, y2 = test_data_gen()\n",
    "        \n",
    "        baryon.append(y1)\n",
    "        proton.append(y2)\n",
    "                \n",
    "    return(np.array(baryon, dtype=np.float32), np.array(proton))"
   ]
  },
  {
   "cell_type": "code",
   "execution_count": null,
   "id": "b06b0233-a434-4457-adc0-c3cb1a74aa92",
   "metadata": {},
   "outputs": [],
   "source": [
    "b, p = generate_data(1)\n",
    "\n",
    "plt.plot(b[0])\n",
    "plt.plot(p[0])\n",
    "fig = plt.Figure()"
   ]
  },
  {
   "cell_type": "markdown",
   "id": "6525c7b6-0ca7-4668-ae8a-dcc04c50a18d",
   "metadata": {
    "pycharm": {
     "name": "#%% md\n"
    }
   },
   "source": [
    "# Generator and Discriminator Models"
   ]
  },
  {
   "cell_type": "code",
   "execution_count": null,
   "id": "a20d8aa4-a777-42b1-b6a1-6155306cfec1",
   "metadata": {},
   "outputs": [],
   "source": [
    "#Global Constants\n",
    "BATCH_SIZE = 16\n",
    "\n",
    "#Encoder\n",
    "ENCODER_KERNEL_SIZE = 3\n",
    "ENCODER_RELU_ALPHA = 0.2\n",
    "\n",
    "#Decoder\n",
    "DECODER_KERNEL_SIZE = 3\n",
    "DECODER_RELU_ALPHA = 0.2\n",
    "\n",
    "#Optimizer Parameters\n",
    "BETA_1 = 0.9\n",
    "BETA_2 = 0.999\n",
    "EPSILON = 1e-07\n",
    "LEARNING_RATE = 1e-7"
   ]
  },
  {
   "cell_type": "code",
   "execution_count": null,
   "id": "36352418-2624-4495-b8f6-470ee161ef9c",
   "metadata": {},
   "outputs": [],
   "source": [
    "def autoencoder_model(dimShape=(128,1)):\n",
    "    model = Sequential([\n",
    "        #Encoder\n",
    "        layers.Input(shape=dimShape),\n",
    "\n",
    "        layers.Conv1D(1, 7, strides=2, padding=\"same\"),\n",
    "        layers.LeakyReLU(),\n",
    "        \n",
    "        layers.Conv1D(8, 7, strides=4, padding=\"same\"),\n",
    "        layers.LeakyReLU(),\n",
    "        \n",
    "        layers.Conv1D(16, 7, strides=4, padding=\"same\"),\n",
    "        layers.LeakyReLU(),\n",
    "        \n",
    "        layers.Conv1D(16, 7, strides=2, padding=\"same\"),\n",
    "        layers.LeakyReLU(),\n",
    "        \n",
    "        layers.Flatten(),\n",
    "        \n",
    "        layers.Dense(16*2),\n",
    "        \n",
    "        layers.Reshape((2,16)),\n",
    "        \n",
    "        #Decoder\n",
    "        layers.Conv1DTranspose(16, 7, strides=2, padding=\"same\"),\n",
    "        layers.LeakyReLU(),\n",
    "        \n",
    "        layers.Conv1DTranspose(16, 7, strides=4, padding=\"same\"),\n",
    "        layers.LeakyReLU(),\n",
    "        \n",
    "        layers.Conv1DTranspose(8, 7, strides=4, padding=\"same\"),\n",
    "        layers.LeakyReLU(),\n",
    "        \n",
    "        layers.Conv1DTranspose(1, 7, strides=2, padding=\"same\", kernel_initializer=\"ones\"),\n",
    "        layers.LeakyReLU(0.4),\n",
    "        \n",
    "        layers.Conv1DTranspose(1, 5, padding=\"same\"),\n",
    "        layers.LeakyReLU(0.3),\n",
    "        \n",
    "        layers.Conv1DTranspose(1, 7, padding=\"same\", kernel_initializer=\"ones\"),\n",
    "        layers.LeakyReLU(0.3),\n",
    "        \n",
    "        layers.Conv1D(1, 1, padding=\"same\", activation=\"sigmoid\")\n",
    "    ])\n",
    "\n",
    "    return(model)"
   ]
  },
  {
   "cell_type": "code",
   "execution_count": null,
   "id": "490935ad-434a-4ecf-905d-1413d8a72687",
   "metadata": {
    "pycharm": {
     "name": "#%%\n"
    }
   },
   "outputs": [],
   "source": [
    "A = autoencoder_model()\n",
    "\n",
    "A.summary()"
   ]
  },
  {
   "cell_type": "markdown",
   "id": "801b128d-7d7b-4579-915a-1d1de0d2d2c6",
   "metadata": {},
   "source": [
    "# Training Functions"
   ]
  },
  {
   "cell_type": "code",
   "execution_count": null,
   "id": "fd59d878-96cc-4c25-90b6-5d54b48fa1b5",
   "metadata": {
    "pycharm": {
     "name": "#%%\n"
    }
   },
   "outputs": [],
   "source": [
    "loss_func = MeanSquaredError()\n",
    "\n",
    "optimizer = Adam(learning_rate = LEARNING_RATE, beta_1=BETA_1, beta_2=BETA_2, epsilon=EPSILON)"
   ]
  },
  {
   "cell_type": "code",
   "execution_count": null,
   "id": "eb8db0d8-edfe-4836-a170-1cb4360111b8",
   "metadata": {
    "pycharm": {
     "name": "#%%\n"
    }
   },
   "outputs": [],
   "source": [
    "@tf.function\n",
    "def train_step(baryon, proton):\n",
    "    with tf.GradientTape() as tape:\n",
    "        output = A(baryon)\n",
    "        loss = loss_func(proton, output)\n",
    "    \n",
    "    grad = tape.gradient(loss, A.trainable_variables)\n",
    "    optimizer.apply_gradients(zip(grad, A.trainable_variables))\n",
    "    \n",
    "    return loss"
   ]
  },
  {
   "cell_type": "code",
   "execution_count": null,
   "id": "d629f19c-5fad-4724-b9dc-f0d427874f56",
   "metadata": {
    "pycharm": {
     "name": "#%%\n"
    }
   },
   "outputs": [],
   "source": [
    "def train(epochs):\n",
    "    total_loss = []\n",
    "    \n",
    "    for epoch in range(epochs):\n",
    "        display.clear_output(wait=True)\n",
    "        print(\"Epoch: \" + str(epoch+1))\n",
    "        baryon, proton = generate_data(size=BATCH_SIZE)\n",
    "        loss = train_step(baryon, proton)\n",
    "        \n",
    "        #Negative loss breaker\n",
    "        if loss < 0:\n",
    "            print(\"Loss break\")\n",
    "            tf.print(loss)\n",
    "            break\n",
    "        total_loss.append(loss)\n",
    "    return np.array(total_loss)"
   ]
  },
  {
   "cell_type": "markdown",
   "id": "511f5820-e7b9-44b1-a785-684169375a19",
   "metadata": {},
   "source": [
    "# Test and Train Zone"
   ]
  },
  {
   "cell_type": "code",
   "execution_count": null,
   "id": "bb9f33be-c520-427a-9f5c-955496e7940a",
   "metadata": {
    "pycharm": {
     "name": "#%%\n"
    },
    "tags": []
   },
   "outputs": [],
   "source": [
    "total_loss = train(2000)"
   ]
  },
  {
   "cell_type": "code",
   "execution_count": null,
   "id": "68b6e661-701a-4efd-a96b-2d4fb8ede39b",
   "metadata": {
    "pycharm": {
     "name": "#%%\n"
    },
    "tags": []
   },
   "outputs": [],
   "source": [
    "plt.plot(np.arange(0, len(total_loss), 1, int ), total_loss)\n",
    "fig=plt.Figure()"
   ]
  },
  {
   "cell_type": "code",
   "execution_count": null,
   "id": "1ee29585-948b-4ff2-8d75-3fad7f836478",
   "metadata": {
    "pycharm": {
     "name": "#%%\n"
    },
    "tags": []
   },
   "outputs": [],
   "source": [
    "samples = 4\n",
    "baryon, actual_proton = generate_data(samples)\n",
    "proton = A(baryon)\n",
    "\n",
    "fig = plt.figure(constrained_layout=True, figsize=(25,5))\n",
    "ax_array = fig.subplots(1, samples, squeeze=True)\n",
    "for i in range(samples):\n",
    "    ax_array[i].plot(np.arange(0, len(baryon[i]), 1, int ), baryon[i])\n",
    "    ax_array[i].plot(np.arange(0, len(proton[i]), 1, int ), proton[i]*20)\n",
    "    ax_array[i].plot(np.arange(0, len(actual_proton[i]), 1, int ), actual_proton[i])"
   ]
  },
  {
   "cell_type": "code",
   "execution_count": null,
   "id": "6878bb5f-4721-4e49-ab5b-fbee258efcfe",
   "metadata": {},
   "outputs": [],
   "source": []
  }
 ],
 "metadata": {
  "kernelspec": {
   "display_name": "Python 3 (ipykernel)",
   "language": "python",
   "name": "python3"
  },
  "language_info": {
   "codemirror_mode": {
    "name": "ipython",
    "version": 3
   },
   "file_extension": ".py",
   "mimetype": "text/x-python",
   "name": "python",
   "nbconvert_exporter": "python",
   "pygments_lexer": "ipython3",
   "version": "3.9.9"
  }
 },
 "nbformat": 4,
 "nbformat_minor": 5
}
