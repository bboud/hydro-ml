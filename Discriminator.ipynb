{
 "cells": [
  {
   "cell_type": "code",
   "execution_count": null,
   "id": "5c1aca15-4153-4f59-ada0-0f2ff904ba16",
   "metadata": {
    "pycharm": {
     "name": "#%%\n"
    },
    "tags": []
   },
   "outputs": [],
   "source": [
    "%matplotlib inline\n",
    "\n",
    "from tensorflow.keras.models import Sequential\n",
    "from tensorflow.keras import layers\n",
    "from tensorflow.keras.optimizers import Adam\n",
    "from tensorflow.keras import Input\n",
    "from tensorflow.keras.losses import BinaryCrossentropy\n",
    "\n",
    "#JIT for the data generation.\n",
    "from numba import jit\n",
    "\n",
    "from IPython import display\n",
    "\n",
    "import tensorflow as tf\n",
    "import numpy as np\n",
    "import matplotlib.pyplot as plt"
   ]
  },
  {
   "cell_type": "markdown",
   "id": "40753e2f-6617-499c-b73b-af3ff392a224",
   "metadata": {
    "pycharm": {
     "name": "#%% md\n"
    }
   },
   "source": [
    "# Data Gen"
   ]
  },
  {
   "cell_type": "code",
   "execution_count": null,
   "id": "172d6424-e03e-447a-8ec8-d96d2f6d9b07",
   "metadata": {
    "pycharm": {
     "name": "#%%\n"
    },
    "tags": []
   },
   "outputs": [],
   "source": [
    "@jit\n",
    "def Kernel(x, x0):\n",
    "    sigma = 0.8\n",
    "    protonFraction = 0.4\n",
    "    norm = protonFraction/(np.sqrt(2.*np.pi)*sigma)\n",
    "    return(norm*np.exp(-(x - x0)**2./(2.*sigma**2.)))\n",
    "\n",
    "@jit\n",
    "def FakeKernel(x, x0, s):\n",
    "    sigma = s\n",
    "    protonFraction = 0.4\n",
    "    norm = protonFraction/(np.sqrt(2.*np.pi)*sigma)\n",
    "    return(norm*np.exp(-(x - x0)**2./(2.*sigma**2.)))"
   ]
  },
  {
   "cell_type": "code",
   "execution_count": null,
   "id": "91484237-4dfc-4ed1-a62a-b0a1702b20dd",
   "metadata": {
    "pycharm": {
     "name": "#%%\n"
    },
    "tags": []
   },
   "outputs": [],
   "source": [
    "@jit\n",
    "def test_data_gen(fakeKernel=False, sigma=0.4):\n",
    "    A = 197\n",
    "    yBeam = 5.36\n",
    "    slope = 0.5\n",
    "    sigmaEtas = 0.2\n",
    "    \n",
    "    # generate input data\n",
    "    nBaryons = np.random.randint(0, 2*A)\n",
    "    randX = np.random.uniform(0, 1, size=nBaryons)\n",
    "    etasBaryon = 1./slope*np.arcsinh((2.*randX - 1)*np.sinh(slope*yBeam))\n",
    "    etasArr = np.linspace(-6.4, 6.4, 128)\n",
    "    dNBdetas = np.zeros(len(etasArr))\n",
    "    norm = 1./(np.sqrt(2.*np.pi)*sigmaEtas)\n",
    "    for iB in etasBaryon:\n",
    "        dNBdetas += norm*np.exp(-(etasArr - iB)**2./(2.*sigmaEtas**2.))\n",
    "    \n",
    "    # generate test data with convolution with a kernel\n",
    "    dNpdy = np.zeros(len(etasArr))\n",
    "    detas = etasArr[1] - etasArr[0]\n",
    "    for i in range(len(etasArr)):\n",
    "        dNpdy[i] = sum(Kernel(etasArr, etasArr[i])*dNBdetas)*detas\n",
    "    \n",
    "    if fakeKernel:\n",
    "        dNBdetasFake = np.random.uniform(0.0, dNBdetas.max(), size=len(etasArr))\n",
    "        dNpdyFake = np.zeros(len(etasArr))\n",
    "        detas = etasArr[1] - etasArr[0]\n",
    "        for i in range(len(etasArr)):\n",
    "            dNpdyFake[i] = sum(FakeKernel(etasArr, etasArr[i], sigma)*dNBdetas)*detas\n",
    "            \n",
    "        return(etasArr, dNBdetas, dNpdy, dNBdetas, dNpdyFake)\n",
    "    else:\n",
    "        # generate fake data with random noise\n",
    "        dNBdetasFake = np.random.uniform(0.0, dNBdetas.max(), size=len(etasArr))\n",
    "        dNpdyFake = np.random.uniform(0.0, dNpdy.max(), size=len(etasArr))\n",
    "\n",
    "        return(etasArr, dNBdetas, dNpdy, dNBdetasFake, dNpdyFake)"
   ]
  },
  {
   "cell_type": "code",
   "execution_count": null,
   "id": "7cd3213c-4556-4754-81af-76f366e23ce2",
   "metadata": {
    "pycharm": {
     "name": "#%%\n"
    },
    "tags": []
   },
   "outputs": [],
   "source": [
    "#Depth defines the number of blocks of data that will be returned per \"iev\".\n",
    "DEPTH = 2\n",
    "\n",
    "def generate_data(size=128):\n",
    "    real_data = []\n",
    "    fake_data = []\n",
    "    \n",
    "    for iev in range( size ):\n",
    "        x, y1, y2, y3, y4 = test_data_gen(fakeKernel=False)\n",
    "        \n",
    "        # real data - Block\n",
    "        x = y2\n",
    "        real_data.append(x)\n",
    "        \n",
    "        # fake data: random - Block\n",
    "        x = y4\n",
    "        fake_data.append(x)\n",
    "                \n",
    "    return(np.array(real_data, dtype=np.float32), np.array(fake_data, dtype=np.float32))"
   ]
  },
  {
   "cell_type": "markdown",
   "id": "6525c7b6-0ca7-4668-ae8a-dcc04c50a18d",
   "metadata": {
    "pycharm": {
     "name": "#%% md\n"
    }
   },
   "source": [
    "# Generator and Discriminator Models"
   ]
  },
  {
   "cell_type": "code",
   "execution_count": null,
   "id": "a20d8aa4-a777-42b1-b6a1-6155306cfec1",
   "metadata": {},
   "outputs": [],
   "source": [
    "#Global Constants\n",
    "\n",
    "BATCH_SIZE = 128\n",
    "\n",
    "#Discriminator\n",
    "DROPOUT_RATE = 0.2\n",
    "RELU_ALPHA=0.2\n",
    "\n",
    "#Optimizer Parameters\n",
    "BETA_1 = 0.9\n",
    "BETA_2 = 0.999\n",
    "EPSILON = 1e-07\n",
    "LEARNING_RATE=0.0005"
   ]
  },
  {
   "cell_type": "code",
   "execution_count": null,
   "id": "9ab3c93a-0c4f-4d8e-8cee-3ee40bc65fa6",
   "metadata": {
    "pycharm": {
     "name": "#%%\n"
    },
    "tags": []
   },
   "outputs": [],
   "source": [
    "def define_discriminator(dimShape=(128,1)):\n",
    "    model = Sequential([\n",
    "        layers.Input(shape=dimShape),\n",
    "        \n",
    "        layers.Conv1D(1, 7, strides = 2, padding=\"same\"),\n",
    "        layers.LeakyReLU(RELU_ALPHA),\n",
    "        layers.BatchNormalization(),\n",
    "        \n",
    "        layers.Conv1D(8, 7, strides = 2, padding=\"same\"),\n",
    "        layers.LeakyReLU(RELU_ALPHA),\n",
    "        layers.BatchNormalization(),\n",
    "        \n",
    "        layers.Conv1D(16, 5, strides = 2, padding=\"same\"),\n",
    "        layers.LeakyReLU(RELU_ALPHA),\n",
    "        layers.BatchNormalization(),\n",
    "        \n",
    "        layers.Flatten(),\n",
    "        layers.Dropout(DROPOUT_RATE),\n",
    "        \n",
    "        layers.Dense(1, activation=\"sigmoid\")\n",
    "        \n",
    "    ], name=\"Discriminator\")\n",
    "\n",
    "    return(model)"
   ]
  },
  {
   "cell_type": "code",
   "execution_count": null,
   "id": "490935ad-434a-4ecf-905d-1413d8a72687",
   "metadata": {
    "pycharm": {
     "name": "#%%\n"
    }
   },
   "outputs": [],
   "source": [
    "D = define_discriminator()\n",
    "\n",
    "D.summary()"
   ]
  },
  {
   "cell_type": "code",
   "execution_count": null,
   "id": "8907965f-c780-4b33-b8e7-58504bbad362",
   "metadata": {
    "tags": []
   },
   "outputs": [],
   "source": [
    "def graph_samples(epoch=None, disc_loss=None):\n",
    "    display.clear_output(wait=True)\n",
    "    if epoch:\n",
    "        print(\"Epoch: \" + str(epoch))\n",
    "\n",
    "    if disc_loss:\n",
    "        real_data, fake_data = generate_data(1024)\n",
    "        \n",
    "        combined_data = tf.concat([real_data, fake_data], axis=0)\n",
    "        \n",
    "        tf.random.shuffle(combined_data)\n",
    "        \n",
    "        predictions = D.predict(combined_data)\n",
    "        \n",
    "        fig = plt.figure(constrained_layout=True, figsize=(25,5))\n",
    "        ax = fig.subplots(1,2)\n",
    "        ax[0].plot(np.arange(0, len(disc_loss), 1, int ), disc_loss, label=\"Average Discriminator Loss(BCE)\")\n",
    "        ax[0].set_ylabel(\"Average Loss\")\n",
    "        ax[0].set_xlabel(\"Epoch Count\")\n",
    "        ax[0].set_title(\"Average Model Losses\")\n",
    "        ax[0].legend()\n",
    "        \n",
    "        ax[1].hist(predictions.reshape(2048), 100)\n",
    "        ax[1].set_xlabel(\"Sample Prediction\")\n",
    "        ax[1].set_ylabel(\"Sample Count\")\n",
    "        ax[1].set_title(\"Predictions\")\n",
    "        plt.xlim([-0.05, 1.05])\n",
    "        \n",
    "        plt.show()"
   ]
  },
  {
   "cell_type": "markdown",
   "id": "801b128d-7d7b-4579-915a-1d1de0d2d2c6",
   "metadata": {},
   "source": [
    "# Training Functions"
   ]
  },
  {
   "cell_type": "code",
   "execution_count": null,
   "id": "fd59d878-96cc-4c25-90b6-5d54b48fa1b5",
   "metadata": {
    "pycharm": {
     "name": "#%%\n"
    }
   },
   "outputs": [],
   "source": [
    "d_cross_entropy = BinaryCrossentropy()\n",
    "\n",
    "discriminator_optimizer = Adam(learning_rate = LEARNING_RATE, beta_1=BETA_1, beta_2=BETA_2, epsilon=EPSILON)"
   ]
  },
  {
   "cell_type": "code",
   "execution_count": null,
   "id": "eb8db0d8-edfe-4836-a170-1cb4360111b8",
   "metadata": {
    "pycharm": {
     "name": "#%%\n"
    }
   },
   "outputs": [],
   "source": [
    "@tf.function\n",
    "def train_step(real_data, fake_data):\n",
    "    with tf.GradientTape() as disc_tape:\n",
    "        real = D(real_data, training=True)\n",
    "        fake = D(fake_data, training=True)\n",
    "        \n",
    "        predictions = tf.concat([real, fake], axis=0)\n",
    "        \n",
    "        real_labels = tf.concat([tf.ones_like(real), tf.zeros_like(fake)], axis=0)\n",
    "        \n",
    "        #Add a little noise\n",
    "        noise_real = 0.15*tf.random.uniform(tf.shape(real))\n",
    "        noise_fake = -0.15*tf.random.uniform(tf.shape(fake))\n",
    "        real_labels += tf.concat([noise_real, noise_fake], axis=0)\n",
    "        \n",
    "        d_loss = d_cross_entropy(real_labels, predictions)\n",
    "    \n",
    "    gradients_of_discriminator = disc_tape.gradient(d_loss, D.trainable_variables)\n",
    "    discriminator_optimizer.apply_gradients(zip(gradients_of_discriminator, D.trainable_variables))\n",
    "    \n",
    "    return d_loss"
   ]
  },
  {
   "cell_type": "code",
   "execution_count": null,
   "id": "d629f19c-5fad-4724-b9dc-f0d427874f56",
   "metadata": {
    "pycharm": {
     "name": "#%%\n"
    }
   },
   "outputs": [],
   "source": [
    "def train(epochs=100000):\n",
    "    total_disc_loss = []\n",
    "    average_disc_loss = []\n",
    "    \n",
    "    for epoch in range(epochs):\n",
    "        display.clear_output(wait=True)\n",
    "        real_data, fake_data = generate_data(size=BATCH_SIZE)\n",
    "        disc_loss = train_step(real_data, fake_data)\n",
    "        \n",
    "        total_disc_loss.append(disc_loss)\n",
    "        average_disc_loss.append((1/(epoch+1))*np.sum(total_disc_loss))\n",
    "        \n",
    "        #Only use this for looking at data, when training for real, comment this out. This function is very hefty.\n",
    "        if (epoch % 50) == 0:\n",
    "            graph_samples(epoch, average_disc_loss)"
   ]
  },
  {
   "cell_type": "markdown",
   "id": "511f5820-e7b9-44b1-a785-684169375a19",
   "metadata": {},
   "source": [
    "# Test and Train Zone"
   ]
  },
  {
   "cell_type": "code",
   "execution_count": null,
   "id": "bb9f33be-c520-427a-9f5c-955496e7940a",
   "metadata": {
    "pycharm": {
     "name": "#%%\n"
    },
    "tags": []
   },
   "outputs": [],
   "source": [
    "train()"
   ]
  },
  {
   "cell_type": "code",
   "execution_count": null,
   "id": "eafe1a48-29b2-4112-ad03-5378b62bf896",
   "metadata": {},
   "outputs": [],
   "source": []
  },
  {
   "cell_type": "code",
   "execution_count": null,
   "id": "18aab9a2-5bc9-4cb3-97bf-88c65865c837",
   "metadata": {},
   "outputs": [],
   "source": []
  }
 ],
 "metadata": {
  "kernelspec": {
   "display_name": "Python 3 (ipykernel)",
   "language": "python",
   "name": "python3"
  },
  "language_info": {
   "codemirror_mode": {
    "name": "ipython",
    "version": 3
   },
   "file_extension": ".py",
   "mimetype": "text/x-python",
   "name": "python",
   "nbconvert_exporter": "python",
   "pygments_lexer": "ipython3",
   "version": "3.9.9"
  }
 },
 "nbformat": 4,
 "nbformat_minor": 5
}
